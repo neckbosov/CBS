{
 "cells": [
  {
   "cell_type": "code",
   "execution_count": 1,
   "id": "c2ad2d95",
   "metadata": {},
   "outputs": [],
   "source": [
    "from stats import run_algo"
   ]
  },
  {
   "cell_type": "code",
   "execution_count": 2,
   "id": "c540ba7d",
   "metadata": {},
   "outputs": [],
   "source": [
    "filename = 'result.txt'"
   ]
  },
  {
   "cell_type": "code",
   "execution_count": 3,
   "id": "59c08e3b",
   "metadata": {},
   "outputs": [
    {
     "data": {
      "text/plain": [
       "True"
      ]
     },
     "execution_count": 3,
     "metadata": {},
     "output_type": "execute_result"
    }
   ],
   "source": [
    "import os\n",
    "run_algo(alg='CBS', dest_file='result.txt',\n",
    "         map_path=os.path.join(os.curdir, 'data', 'maps', 'mapf', 'random-32-32-10.map'),\n",
    "         scen_path=os.path.join(os.curdir, 'data', 'scens', 'mapf', 'random-32-32-10-even-1.scen'),\n",
    "         tasks_count=10,\n",
    "         test_num=10)"
   ]
  },
  {
   "cell_type": "code",
   "execution_count": 5,
   "id": "533abb7f",
   "metadata": {},
   "outputs": [],
   "source": [
    "from collections import defaultdict\n",
    "def parse_path_file(path_file_content):\n",
    "    agents_path = defaultdict(list)\n",
    "    agent = None\n",
    "    lines = path_file_content.split('\\n')\n",
    "    for line in lines:\n",
    "        if line == '':\n",
    "            break\n",
    "        nums = list(map(int, line.split(' ')))\n",
    "        if len(nums) == 1:\n",
    "            agent = int(nums[0])\n",
    "        else:\n",
    "            x, y, time = nums\n",
    "            agents_path[agent].append((x, y, time))\n",
    "    return agents_path\n",
    "\n",
    "def read_paths(filename=filename):\n",
    "    with open(filename, 'r') as path_file:\n",
    "        path_file_content = path_file.read()\n",
    "        agents_path = parse_path_file(path_file_content)\n",
    "    return dict(agents_path)"
   ]
  },
  {
   "cell_type": "code",
   "execution_count": 9,
   "id": "3d3a7f68",
   "metadata": {},
   "outputs": [],
   "source": [
    "import tqdm\n",
    "# test num takes index in range(0, num_repetitions)\n",
    "def success_rate(alg_name, map_name, scen_name, num_agents, num_repetitions):\n",
    "    rate = 0\n",
    "    for i in tqdm.tqdm(range(num_repetitions)):\n",
    "        done = run_algo(alg=alg_name, dest_file=filename,\n",
    "                 map_path=os.path.join(os.curdir, 'data', 'maps', 'mapf', map_name),\n",
    "                 scen_path=os.path.join(os.curdir, 'data', 'scens', 'mapf', scen_name),\n",
    "                 tasks_count=num_agents,\n",
    "                 test_num=i)\n",
    "        rate += int(done)\n",
    "    return rate / num_repetitions\n"
   ]
  },
  {
   "cell_type": "code",
   "execution_count": 11,
   "id": "6908cb5f",
   "metadata": {},
   "outputs": [
    {
     "name": "stderr",
     "output_type": "stream",
     "text": [
      "100%|███████████████████████████████████████████████████████████████████████████████████████████████████████████| 100/100 [02:13<00:00,  1.34s/it]\n"
     ]
    },
    {
     "data": {
      "text/plain": [
       "0.99"
      ]
     },
     "execution_count": 11,
     "metadata": {},
     "output_type": "execute_result"
    }
   ],
   "source": [
    "random_map = 'random-32-32-10.map'\n",
    "random_scen = 'random-32-32-10-even-1.scen'\n",
    "success_rate('CBS', random_map, random_scen, 10, 100)"
   ]
  },
  {
   "cell_type": "code",
   "execution_count": 12,
   "id": "e22d9000",
   "metadata": {},
   "outputs": [
    {
     "name": "stderr",
     "output_type": "stream",
     "text": [
      "100%|███████████████████████████████████████████████████████████████████████████████████████████████████████████| 100/100 [00:01<00:00, 60.31it/s]\n"
     ]
    },
    {
     "data": {
      "text/plain": [
       "1.0"
      ]
     },
     "execution_count": 12,
     "metadata": {},
     "output_type": "execute_result"
    }
   ],
   "source": [
    "random_map = 'random-32-32-10.map'\n",
    "random_scen = 'random-32-32-10-even-1.scen'\n",
    "success_rate('CBS', random_map, random_scen, 1, 100)"
   ]
  },
  {
   "cell_type": "code",
   "execution_count": 13,
   "id": "0e7c7533",
   "metadata": {},
   "outputs": [
    {
     "name": "stderr",
     "output_type": "stream",
     "text": [
      "100%|███████████████████████████████████████████████████████████████████████████████████████████████████████████| 100/100 [13:55<00:00,  8.36s/it]\n"
     ]
    },
    {
     "data": {
      "text/plain": [
       "0.94"
      ]
     },
     "execution_count": 13,
     "metadata": {},
     "output_type": "execute_result"
    }
   ],
   "source": [
    "random_map = 'random-32-32-10.map'\n",
    "random_scen = 'random-32-32-10-even-1.scen'\n",
    "success_rate('CBS', random_map, random_scen, 20, 100)"
   ]
  },
  {
   "cell_type": "code",
   "execution_count": null,
   "id": "2a6883b4",
   "metadata": {},
   "outputs": [
    {
     "name": "stderr",
     "output_type": "stream",
     "text": [
      "100%|█████████████████████████████████████████████████████████████████████████████████████████████████████████████| 10/10 [00:00<00:00, 49.24it/s]\n",
      " 40%|████████████████████████████████████████████                                                                  | 4/10 [00:00<00:00, 39.22it/s]"
     ]
    },
    {
     "name": "stdout",
     "output_type": "stream",
     "text": [
      "Num actors :5, Rate: 1.00%\n"
     ]
    },
    {
     "name": "stderr",
     "output_type": "stream",
     "text": [
      "100%|█████████████████████████████████████████████████████████████████████████████████████████████████████████████| 10/10 [00:00<00:00, 41.66it/s]\n",
      " 20%|██████████████████████                                                                                        | 2/10 [00:00<00:00, 16.26it/s]"
     ]
    },
    {
     "name": "stdout",
     "output_type": "stream",
     "text": [
      "Num actors :10, Rate: 1.00%\n"
     ]
    },
    {
     "name": "stderr",
     "output_type": "stream",
     "text": [
      "100%|█████████████████████████████████████████████████████████████████████████████████████████████████████████████| 10/10 [00:15<00:00,  1.54s/it]\n",
      " 10%|███████████                                                                                                   | 1/10 [00:00<00:01,  5.92it/s]"
     ]
    },
    {
     "name": "stdout",
     "output_type": "stream",
     "text": [
      "Num actors :20, Rate: 1.00%\n"
     ]
    }
   ],
   "source": [
    "# build success_rate stats\n",
    "rate_list = [] \n",
    "N = 10\n",
    "for num_actors in [5, 10, 20, 30, 40, 50]:\n",
    "    rate = success_rate('CBS', random_map, random_scen, num_actors, N)\n",
    "    print(f'Num actors :{num_actors}, Rate: {rate:.2f}%')\n",
    "    rate_list.append(rate)"
   ]
  }
 ],
 "metadata": {
  "kernelspec": {
   "display_name": "Python 3",
   "language": "python",
   "name": "python3"
  },
  "language_info": {
   "codemirror_mode": {
    "name": "ipython",
    "version": 3
   },
   "file_extension": ".py",
   "mimetype": "text/x-python",
   "name": "python",
   "nbconvert_exporter": "python",
   "pygments_lexer": "ipython3",
   "version": "3.8.3"
  }
 },
 "nbformat": 4,
 "nbformat_minor": 5
}
