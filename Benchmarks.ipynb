{
 "cells": [
  {
   "cell_type": "markdown",
   "id": "54712b46",
   "metadata": {},
   "source": [
    "# В этом ноутбуке находятся бенчмарки для сравнения CBS и ECBS на трех картах: random с 10% препятствий, лабиринт и реальная карта с малым числом препятствий."
   ]
  },
  {
   "cell_type": "code",
   "execution_count": null,
   "id": "43ca71e4",
   "metadata": {},
   "outputs": [],
   "source": [
    "from stats import run_algo\n",
    "from typing import List\n",
    "from tqdm.notebook import tqdm\n",
    "import matplotlib\n",
    "import numpy as np\n",
    "from matplotlib import pyplot as plt\n",
    "from matplotlib_inline.backend_inline import set_matplotlib_formats\n",
    "%matplotlib inline\n",
    "set_matplotlib_formats('svg')"
   ]
  },
  {
   "cell_type": "code",
   "execution_count": 10,
   "id": "3501cba0",
   "metadata": {},
   "outputs": [],
   "source": [
    "import os\n",
    "filename = 'result2.txt'\n",
    "\n",
    "def read_expanded(filename=filename):\n",
    "    with open(filename, 'r') as path_file:\n",
    "        hl_expanded, ll_expanded = list(map(int, path_file.read().split('\\n')[0].split(' ')[1:]))\n",
    "        return hl_expanded, ll_expanded\n",
    "\n",
    "def run(alg_name, map_name, scen_name, num_agents, num_repetitions, w=None):\n",
    "    hl_expanded = 0\n",
    "    ll_expanded = 0\n",
    "    count_done = 0\n",
    "    for i in tqdm(range(num_repetitions)):\n",
    "        done = run_algo(alg=alg_name, dest_file=filename,\n",
    "                        map_path=os.path.join(os.curdir, 'data', 'maps', 'mapf', map_name),\n",
    "                        scen_path=os.path.join(os.curdir, 'data', 'scens', 'mapf', scen_name),\n",
    "                        tasks_count=num_agents,\n",
    "                        test_num=i, w=w)\n",
    "        count_done += int(done)\n",
    "        if done:\n",
    "            hl, ll = read_expanded(filename)\n",
    "            hl_expanded += hl * int(done)\n",
    "            ll_expanded += ll * int(done)\n",
    "    if count_done == 0:\n",
    "        return (0, 0, 0)\n",
    "    return count_done / num_repetitions, hl_expanded / count_done, ll_expanded / count_done"
   ]
  },
  {
   "cell_type": "code",
   "execution_count": 11,
   "id": "ddab773c",
   "metadata": {},
   "outputs": [],
   "source": [
    "from collections import defaultdict\n",
    "def parse_path_file(path_file_content):\n",
    "    agents_path = defaultdict(list)\n",
    "    agent = None\n",
    "    lines = path_file_content.split('\\n')[1:]\n",
    "    for line in lines:\n",
    "        if line == '':\n",
    "            break\n",
    "        nums = list(map(int, line.split(' ')))\n",
    "        if len(nums) == 1:\n",
    "            agent = int(nums[0])\n",
    "        else:\n",
    "            x, y, time = nums\n",
    "            agents_path[agent].append((x, y, time))\n",
    "    return agents_path\n",
    "\n",
    "def read_paths(filename=filename):\n",
    "    with open(filename, 'r') as path_file:\n",
    "        path_file_content = path_file.read()\n",
    "        agents_path = parse_path_file(path_file_content)\n",
    "    return dict(agents_path)"
   ]
  },
  {
   "cell_type": "code",
   "execution_count": 12,
   "id": "83bd09cc",
   "metadata": {},
   "outputs": [],
   "source": [
    "def gen_rate_list(alg:str, map_name:str, scen_name:str, actors_array:List[int], N=20, w=None):\n",
    "    rate_list = []\n",
    "    for num_actors in actors_array:\n",
    "        rate, hl_expanded, ll_expanded = run(alg, map_name, scen_name, num_actors, N, w)\n",
    "        print(f'Num actors: {num_actors}, Rate: {rate:.2f}, High level expanded: {hl_expanded:.2f}, Low level expanded: {ll_expanded:.2f}')\n",
    "        rate_list.append((rate, hl_expanded, ll_expanded))\n",
    "        if rate <= 0.1:\n",
    "            break\n",
    "    while len(rate_list) < len (actors_array):\n",
    "        rate_list.append((0.0, 0, 0))\n",
    "    \n",
    "    return rate_list"
   ]
  },
  {
   "cell_type": "code",
   "execution_count": 4,
   "id": "e76f358d",
   "metadata": {},
   "outputs": [],
   "source": [
    "rand_actors = [5, 10, 20, 30, 40, 50, 60, 70, 80, 90]"
   ]
  },
  {
   "cell_type": "code",
   "execution_count": 6,
   "id": "c1e7c523",
   "metadata": {},
   "outputs": [
    {
     "data": {
      "application/vnd.jupyter.widget-view+json": {
       "model_id": "963c7d465e12454088d488b701e5540c",
       "version_major": 2,
       "version_minor": 0
      },
      "text/plain": [
       "  0%|          | 0/20 [00:00<?, ?it/s]"
      ]
     },
     "metadata": {},
     "output_type": "display_data"
    },
    {
     "name": "stdout",
     "output_type": "stream",
     "text": [
      "Num actors: 5, Rate: 1.00, High level expanded: 121.75, Low level expanded: 185341.80\n"
     ]
    },
    {
     "data": {
      "application/vnd.jupyter.widget-view+json": {
       "model_id": "0c9fa20c85314529bf7c1a57938cdaa4",
       "version_major": 2,
       "version_minor": 0
      },
      "text/plain": [
       "  0%|          | 0/20 [00:00<?, ?it/s]"
      ]
     },
     "metadata": {},
     "output_type": "display_data"
    },
    {
     "name": "stdout",
     "output_type": "stream",
     "text": [
      "Num actors: 10, Rate: 1.00, High level expanded: 166.05, Low level expanded: 292156.05\n"
     ]
    },
    {
     "data": {
      "application/vnd.jupyter.widget-view+json": {
       "model_id": "0a07d2776882401897697d7a663e2854",
       "version_major": 2,
       "version_minor": 0
      },
      "text/plain": [
       "  0%|          | 0/20 [00:00<?, ?it/s]"
      ]
     },
     "metadata": {},
     "output_type": "display_data"
    },
    {
     "ename": "KeyboardInterrupt",
     "evalue": "",
     "output_type": "error",
     "traceback": [
      "\u001b[0;31m---------------------------------------------------------------------------\u001b[0m",
      "\u001b[0;31mKeyboardInterrupt\u001b[0m                         Traceback (most recent call last)",
      "\u001b[0;32m<ipython-input-6-edeaa1fe8b12>\u001b[0m in \u001b[0;36m<module>\u001b[0;34m\u001b[0m\n\u001b[1;32m      1\u001b[0m \u001b[0;31m# CBS random-32x32x10\u001b[0m\u001b[0;34m\u001b[0m\u001b[0;34m\u001b[0m\u001b[0;34m\u001b[0m\u001b[0m\n\u001b[0;32m----> 2\u001b[0;31m \u001b[0mrand_cbs\u001b[0m \u001b[0;34m=\u001b[0m \u001b[0mgen_rate_list\u001b[0m\u001b[0;34m(\u001b[0m\u001b[0;34m'CBS'\u001b[0m\u001b[0;34m,\u001b[0m \u001b[0;34m'random-32-32-10.map'\u001b[0m\u001b[0;34m,\u001b[0m \u001b[0;34m'random-32-32-10-even-1.scen'\u001b[0m\u001b[0;34m,\u001b[0m \u001b[0mrand_actors\u001b[0m\u001b[0;34m)\u001b[0m\u001b[0;34m\u001b[0m\u001b[0;34m\u001b[0m\u001b[0m\n\u001b[0m\u001b[1;32m      3\u001b[0m \u001b[0mrand_cbs\u001b[0m\u001b[0;34m\u001b[0m\u001b[0;34m\u001b[0m\u001b[0m\n",
      "\u001b[0;32m<ipython-input-4-d9dd5c05b371>\u001b[0m in \u001b[0;36mgen_rate_list\u001b[0;34m(alg, map_name, scen_name, actors_array, N, w)\u001b[0m\n\u001b[1;32m      2\u001b[0m     \u001b[0mrate_list\u001b[0m \u001b[0;34m=\u001b[0m \u001b[0;34m[\u001b[0m\u001b[0;34m]\u001b[0m\u001b[0;34m\u001b[0m\u001b[0;34m\u001b[0m\u001b[0m\n\u001b[1;32m      3\u001b[0m     \u001b[0;32mfor\u001b[0m \u001b[0mnum_actors\u001b[0m \u001b[0;32min\u001b[0m \u001b[0mactors_array\u001b[0m\u001b[0;34m:\u001b[0m\u001b[0;34m\u001b[0m\u001b[0;34m\u001b[0m\u001b[0m\n\u001b[0;32m----> 4\u001b[0;31m         \u001b[0mrate\u001b[0m\u001b[0;34m,\u001b[0m \u001b[0mhl_expanded\u001b[0m\u001b[0;34m,\u001b[0m \u001b[0mll_expanded\u001b[0m \u001b[0;34m=\u001b[0m \u001b[0mrun\u001b[0m\u001b[0;34m(\u001b[0m\u001b[0malg\u001b[0m\u001b[0;34m,\u001b[0m \u001b[0mmap_name\u001b[0m\u001b[0;34m,\u001b[0m \u001b[0mscen_name\u001b[0m\u001b[0;34m,\u001b[0m \u001b[0mnum_actors\u001b[0m\u001b[0;34m,\u001b[0m \u001b[0mN\u001b[0m\u001b[0;34m,\u001b[0m \u001b[0mw\u001b[0m\u001b[0;34m)\u001b[0m\u001b[0;34m\u001b[0m\u001b[0;34m\u001b[0m\u001b[0m\n\u001b[0m\u001b[1;32m      5\u001b[0m         \u001b[0mprint\u001b[0m\u001b[0;34m(\u001b[0m\u001b[0;34mf'Num actors: {num_actors}, Rate: {rate:.2f}, High level expanded: {hl_expanded:.2f}, Low level expanded: {ll_expanded:.2f}'\u001b[0m\u001b[0;34m)\u001b[0m\u001b[0;34m\u001b[0m\u001b[0;34m\u001b[0m\u001b[0m\n\u001b[1;32m      6\u001b[0m         \u001b[0mrate_list\u001b[0m\u001b[0;34m.\u001b[0m\u001b[0mappend\u001b[0m\u001b[0;34m(\u001b[0m\u001b[0;34m(\u001b[0m\u001b[0mrate\u001b[0m\u001b[0;34m,\u001b[0m \u001b[0mhl_expanded\u001b[0m\u001b[0;34m,\u001b[0m \u001b[0mll_expanded\u001b[0m\u001b[0;34m)\u001b[0m\u001b[0;34m)\u001b[0m\u001b[0;34m\u001b[0m\u001b[0;34m\u001b[0m\u001b[0m\n",
      "\u001b[0;32m<ipython-input-2-e65b9e920641>\u001b[0m in \u001b[0;36mrun\u001b[0;34m(alg_name, map_name, scen_name, num_agents, num_repetitions, w)\u001b[0m\n\u001b[1;32m     12\u001b[0m     \u001b[0mcount_done\u001b[0m \u001b[0;34m=\u001b[0m \u001b[0;36m0\u001b[0m\u001b[0;34m\u001b[0m\u001b[0;34m\u001b[0m\u001b[0m\n\u001b[1;32m     13\u001b[0m     \u001b[0;32mfor\u001b[0m \u001b[0mi\u001b[0m \u001b[0;32min\u001b[0m \u001b[0mtqdm\u001b[0m\u001b[0;34m(\u001b[0m\u001b[0mrange\u001b[0m\u001b[0;34m(\u001b[0m\u001b[0mnum_repetitions\u001b[0m\u001b[0;34m)\u001b[0m\u001b[0;34m)\u001b[0m\u001b[0;34m:\u001b[0m\u001b[0;34m\u001b[0m\u001b[0;34m\u001b[0m\u001b[0m\n\u001b[0;32m---> 14\u001b[0;31m         done = run_algo(alg=alg_name, dest_file=filename,\n\u001b[0m\u001b[1;32m     15\u001b[0m                         \u001b[0mmap_path\u001b[0m\u001b[0;34m=\u001b[0m\u001b[0mos\u001b[0m\u001b[0;34m.\u001b[0m\u001b[0mpath\u001b[0m\u001b[0;34m.\u001b[0m\u001b[0mjoin\u001b[0m\u001b[0;34m(\u001b[0m\u001b[0mos\u001b[0m\u001b[0;34m.\u001b[0m\u001b[0mcurdir\u001b[0m\u001b[0;34m,\u001b[0m \u001b[0;34m'data'\u001b[0m\u001b[0;34m,\u001b[0m \u001b[0;34m'maps'\u001b[0m\u001b[0;34m,\u001b[0m \u001b[0;34m'mapf'\u001b[0m\u001b[0;34m,\u001b[0m \u001b[0mmap_name\u001b[0m\u001b[0;34m)\u001b[0m\u001b[0;34m,\u001b[0m\u001b[0;34m\u001b[0m\u001b[0;34m\u001b[0m\u001b[0m\n\u001b[1;32m     16\u001b[0m                         \u001b[0mscen_path\u001b[0m\u001b[0;34m=\u001b[0m\u001b[0mos\u001b[0m\u001b[0;34m.\u001b[0m\u001b[0mpath\u001b[0m\u001b[0;34m.\u001b[0m\u001b[0mjoin\u001b[0m\u001b[0;34m(\u001b[0m\u001b[0mos\u001b[0m\u001b[0;34m.\u001b[0m\u001b[0mcurdir\u001b[0m\u001b[0;34m,\u001b[0m \u001b[0;34m'data'\u001b[0m\u001b[0;34m,\u001b[0m \u001b[0;34m'scens'\u001b[0m\u001b[0;34m,\u001b[0m \u001b[0;34m'mapf'\u001b[0m\u001b[0;34m,\u001b[0m \u001b[0mscen_name\u001b[0m\u001b[0;34m)\u001b[0m\u001b[0;34m,\u001b[0m\u001b[0;34m\u001b[0m\u001b[0;34m\u001b[0m\u001b[0m\n",
      "\u001b[0;32m~/learning/Homeworks/heuristics/CBS/stats.py\u001b[0m in \u001b[0;36mrun_algo\u001b[0;34m(alg, dest_file, map_path, scen_path, tasks_count, test_num, w)\u001b[0m\n\u001b[1;32m     13\u001b[0m         \u001b[0;32mif\u001b[0m \u001b[0mw\u001b[0m \u001b[0;32mis\u001b[0m \u001b[0;32mnot\u001b[0m \u001b[0;32mNone\u001b[0m\u001b[0;34m:\u001b[0m\u001b[0;34m\u001b[0m\u001b[0;34m\u001b[0m\u001b[0m\n\u001b[1;32m     14\u001b[0m             \u001b[0mcmd\u001b[0m\u001b[0;34m.\u001b[0m\u001b[0mappend\u001b[0m\u001b[0;34m(\u001b[0m\u001b[0mstr\u001b[0m\u001b[0;34m(\u001b[0m\u001b[0mw\u001b[0m\u001b[0;34m)\u001b[0m\u001b[0;34m)\u001b[0m\u001b[0;34m\u001b[0m\u001b[0;34m\u001b[0m\u001b[0m\n\u001b[0;32m---> 15\u001b[0;31m         \u001b[0msubprocess\u001b[0m\u001b[0;34m.\u001b[0m\u001b[0mrun\u001b[0m\u001b[0;34m(\u001b[0m\u001b[0mcmd\u001b[0m\u001b[0;34m,\u001b[0m \u001b[0mtimeout\u001b[0m\u001b[0;34m=\u001b[0m\u001b[0;36m2\u001b[0m \u001b[0;34m*\u001b[0m \u001b[0;36m60\u001b[0m\u001b[0;34m)\u001b[0m\u001b[0;34m\u001b[0m\u001b[0;34m\u001b[0m\u001b[0m\n\u001b[0m\u001b[1;32m     16\u001b[0m         \u001b[0;32mreturn\u001b[0m \u001b[0;32mTrue\u001b[0m\u001b[0;34m\u001b[0m\u001b[0;34m\u001b[0m\u001b[0m\n\u001b[1;32m     17\u001b[0m     \u001b[0;32mexcept\u001b[0m \u001b[0msubprocess\u001b[0m\u001b[0;34m.\u001b[0m\u001b[0mTimeoutExpired\u001b[0m\u001b[0;34m:\u001b[0m\u001b[0;34m\u001b[0m\u001b[0;34m\u001b[0m\u001b[0m\n",
      "\u001b[0;32m/usr/lib/python3.9/subprocess.py\u001b[0m in \u001b[0;36mrun\u001b[0;34m(input, capture_output, timeout, check, *popenargs, **kwargs)\u001b[0m\n\u001b[1;32m    505\u001b[0m     \u001b[0;32mwith\u001b[0m \u001b[0mPopen\u001b[0m\u001b[0;34m(\u001b[0m\u001b[0;34m*\u001b[0m\u001b[0mpopenargs\u001b[0m\u001b[0;34m,\u001b[0m \u001b[0;34m**\u001b[0m\u001b[0mkwargs\u001b[0m\u001b[0;34m)\u001b[0m \u001b[0;32mas\u001b[0m \u001b[0mprocess\u001b[0m\u001b[0;34m:\u001b[0m\u001b[0;34m\u001b[0m\u001b[0;34m\u001b[0m\u001b[0m\n\u001b[1;32m    506\u001b[0m         \u001b[0;32mtry\u001b[0m\u001b[0;34m:\u001b[0m\u001b[0;34m\u001b[0m\u001b[0;34m\u001b[0m\u001b[0m\n\u001b[0;32m--> 507\u001b[0;31m             \u001b[0mstdout\u001b[0m\u001b[0;34m,\u001b[0m \u001b[0mstderr\u001b[0m \u001b[0;34m=\u001b[0m \u001b[0mprocess\u001b[0m\u001b[0;34m.\u001b[0m\u001b[0mcommunicate\u001b[0m\u001b[0;34m(\u001b[0m\u001b[0minput\u001b[0m\u001b[0;34m,\u001b[0m \u001b[0mtimeout\u001b[0m\u001b[0;34m=\u001b[0m\u001b[0mtimeout\u001b[0m\u001b[0;34m)\u001b[0m\u001b[0;34m\u001b[0m\u001b[0;34m\u001b[0m\u001b[0m\n\u001b[0m\u001b[1;32m    508\u001b[0m         \u001b[0;32mexcept\u001b[0m \u001b[0mTimeoutExpired\u001b[0m \u001b[0;32mas\u001b[0m \u001b[0mexc\u001b[0m\u001b[0;34m:\u001b[0m\u001b[0;34m\u001b[0m\u001b[0;34m\u001b[0m\u001b[0m\n\u001b[1;32m    509\u001b[0m             \u001b[0mprocess\u001b[0m\u001b[0;34m.\u001b[0m\u001b[0mkill\u001b[0m\u001b[0;34m(\u001b[0m\u001b[0;34m)\u001b[0m\u001b[0;34m\u001b[0m\u001b[0;34m\u001b[0m\u001b[0m\n",
      "\u001b[0;32m/usr/lib/python3.9/subprocess.py\u001b[0m in \u001b[0;36mcommunicate\u001b[0;34m(self, input, timeout)\u001b[0m\n\u001b[1;32m   1132\u001b[0m \u001b[0;34m\u001b[0m\u001b[0m\n\u001b[1;32m   1133\u001b[0m             \u001b[0;32mtry\u001b[0m\u001b[0;34m:\u001b[0m\u001b[0;34m\u001b[0m\u001b[0;34m\u001b[0m\u001b[0m\n\u001b[0;32m-> 1134\u001b[0;31m                 \u001b[0mstdout\u001b[0m\u001b[0;34m,\u001b[0m \u001b[0mstderr\u001b[0m \u001b[0;34m=\u001b[0m \u001b[0mself\u001b[0m\u001b[0;34m.\u001b[0m\u001b[0m_communicate\u001b[0m\u001b[0;34m(\u001b[0m\u001b[0minput\u001b[0m\u001b[0;34m,\u001b[0m \u001b[0mendtime\u001b[0m\u001b[0;34m,\u001b[0m \u001b[0mtimeout\u001b[0m\u001b[0;34m)\u001b[0m\u001b[0;34m\u001b[0m\u001b[0;34m\u001b[0m\u001b[0m\n\u001b[0m\u001b[1;32m   1135\u001b[0m             \u001b[0;32mexcept\u001b[0m \u001b[0mKeyboardInterrupt\u001b[0m\u001b[0;34m:\u001b[0m\u001b[0;34m\u001b[0m\u001b[0;34m\u001b[0m\u001b[0m\n\u001b[1;32m   1136\u001b[0m                 \u001b[0;31m# https://bugs.python.org/issue25942\u001b[0m\u001b[0;34m\u001b[0m\u001b[0;34m\u001b[0m\u001b[0;34m\u001b[0m\u001b[0m\n",
      "\u001b[0;32m/usr/lib/python3.9/subprocess.py\u001b[0m in \u001b[0;36m_communicate\u001b[0;34m(self, input, endtime, orig_timeout)\u001b[0m\n\u001b[1;32m   2003\u001b[0m                             \u001b[0mself\u001b[0m\u001b[0;34m.\u001b[0m\u001b[0m_fileobj2output\u001b[0m\u001b[0;34m[\u001b[0m\u001b[0mkey\u001b[0m\u001b[0;34m.\u001b[0m\u001b[0mfileobj\u001b[0m\u001b[0;34m]\u001b[0m\u001b[0;34m.\u001b[0m\u001b[0mappend\u001b[0m\u001b[0;34m(\u001b[0m\u001b[0mdata\u001b[0m\u001b[0;34m)\u001b[0m\u001b[0;34m\u001b[0m\u001b[0;34m\u001b[0m\u001b[0m\n\u001b[1;32m   2004\u001b[0m \u001b[0;34m\u001b[0m\u001b[0m\n\u001b[0;32m-> 2005\u001b[0;31m             \u001b[0mself\u001b[0m\u001b[0;34m.\u001b[0m\u001b[0mwait\u001b[0m\u001b[0;34m(\u001b[0m\u001b[0mtimeout\u001b[0m\u001b[0;34m=\u001b[0m\u001b[0mself\u001b[0m\u001b[0;34m.\u001b[0m\u001b[0m_remaining_time\u001b[0m\u001b[0;34m(\u001b[0m\u001b[0mendtime\u001b[0m\u001b[0;34m)\u001b[0m\u001b[0;34m)\u001b[0m\u001b[0;34m\u001b[0m\u001b[0;34m\u001b[0m\u001b[0m\n\u001b[0m\u001b[1;32m   2006\u001b[0m \u001b[0;34m\u001b[0m\u001b[0m\n\u001b[1;32m   2007\u001b[0m             \u001b[0;31m# All data exchanged.  Translate lists into strings.\u001b[0m\u001b[0;34m\u001b[0m\u001b[0;34m\u001b[0m\u001b[0;34m\u001b[0m\u001b[0m\n",
      "\u001b[0;32m/usr/lib/python3.9/subprocess.py\u001b[0m in \u001b[0;36mwait\u001b[0;34m(self, timeout)\u001b[0m\n\u001b[1;32m   1187\u001b[0m             \u001b[0mendtime\u001b[0m \u001b[0;34m=\u001b[0m \u001b[0m_time\u001b[0m\u001b[0;34m(\u001b[0m\u001b[0;34m)\u001b[0m \u001b[0;34m+\u001b[0m \u001b[0mtimeout\u001b[0m\u001b[0;34m\u001b[0m\u001b[0;34m\u001b[0m\u001b[0m\n\u001b[1;32m   1188\u001b[0m         \u001b[0;32mtry\u001b[0m\u001b[0;34m:\u001b[0m\u001b[0;34m\u001b[0m\u001b[0;34m\u001b[0m\u001b[0m\n\u001b[0;32m-> 1189\u001b[0;31m             \u001b[0;32mreturn\u001b[0m \u001b[0mself\u001b[0m\u001b[0;34m.\u001b[0m\u001b[0m_wait\u001b[0m\u001b[0;34m(\u001b[0m\u001b[0mtimeout\u001b[0m\u001b[0;34m=\u001b[0m\u001b[0mtimeout\u001b[0m\u001b[0;34m)\u001b[0m\u001b[0;34m\u001b[0m\u001b[0;34m\u001b[0m\u001b[0m\n\u001b[0m\u001b[1;32m   1190\u001b[0m         \u001b[0;32mexcept\u001b[0m \u001b[0mKeyboardInterrupt\u001b[0m\u001b[0;34m:\u001b[0m\u001b[0;34m\u001b[0m\u001b[0;34m\u001b[0m\u001b[0m\n\u001b[1;32m   1191\u001b[0m             \u001b[0;31m# https://bugs.python.org/issue25942\u001b[0m\u001b[0;34m\u001b[0m\u001b[0;34m\u001b[0m\u001b[0;34m\u001b[0m\u001b[0m\n",
      "\u001b[0;32m/usr/lib/python3.9/subprocess.py\u001b[0m in \u001b[0;36m_wait\u001b[0;34m(self, timeout)\u001b[0m\n\u001b[1;32m   1909\u001b[0m                         \u001b[0;32mraise\u001b[0m \u001b[0mTimeoutExpired\u001b[0m\u001b[0;34m(\u001b[0m\u001b[0mself\u001b[0m\u001b[0;34m.\u001b[0m\u001b[0margs\u001b[0m\u001b[0;34m,\u001b[0m \u001b[0mtimeout\u001b[0m\u001b[0;34m)\u001b[0m\u001b[0;34m\u001b[0m\u001b[0;34m\u001b[0m\u001b[0m\n\u001b[1;32m   1910\u001b[0m                     \u001b[0mdelay\u001b[0m \u001b[0;34m=\u001b[0m \u001b[0mmin\u001b[0m\u001b[0;34m(\u001b[0m\u001b[0mdelay\u001b[0m \u001b[0;34m*\u001b[0m \u001b[0;36m2\u001b[0m\u001b[0;34m,\u001b[0m \u001b[0mremaining\u001b[0m\u001b[0;34m,\u001b[0m \u001b[0;36m.05\u001b[0m\u001b[0;34m)\u001b[0m\u001b[0;34m\u001b[0m\u001b[0;34m\u001b[0m\u001b[0m\n\u001b[0;32m-> 1911\u001b[0;31m                     \u001b[0mtime\u001b[0m\u001b[0;34m.\u001b[0m\u001b[0msleep\u001b[0m\u001b[0;34m(\u001b[0m\u001b[0mdelay\u001b[0m\u001b[0;34m)\u001b[0m\u001b[0;34m\u001b[0m\u001b[0;34m\u001b[0m\u001b[0m\n\u001b[0m\u001b[1;32m   1912\u001b[0m             \u001b[0;32melse\u001b[0m\u001b[0;34m:\u001b[0m\u001b[0;34m\u001b[0m\u001b[0;34m\u001b[0m\u001b[0m\n\u001b[1;32m   1913\u001b[0m                 \u001b[0;32mwhile\u001b[0m \u001b[0mself\u001b[0m\u001b[0;34m.\u001b[0m\u001b[0mreturncode\u001b[0m \u001b[0;32mis\u001b[0m \u001b[0;32mNone\u001b[0m\u001b[0;34m:\u001b[0m\u001b[0;34m\u001b[0m\u001b[0;34m\u001b[0m\u001b[0m\n",
      "\u001b[0;31mKeyboardInterrupt\u001b[0m: "
     ]
    }
   ],
   "source": [
    "# CBS random-32x32x10\n",
    "rand_cbs = gen_rate_list('CBS', 'random-32-32-10.map', 'random-32-32-10-even-1.scen', rand_actors)\n",
    "rand_cbs"
   ]
  },
  {
   "cell_type": "code",
   "execution_count": 7,
   "id": "cdba943d",
   "metadata": {},
   "outputs": [
    {
     "data": {
      "application/vnd.jupyter.widget-view+json": {
       "model_id": "0e8223e9887e454da67286f90f13c5d1",
       "version_major": 2,
       "version_minor": 0
      },
      "text/plain": [
       "  0%|          | 0/20 [00:00<?, ?it/s]"
      ]
     },
     "metadata": {},
     "output_type": "display_data"
    },
    {
     "name": "stdout",
     "output_type": "stream",
     "text": [
      "Num actors: 5, Rate: 1.00, High level expanded: 1.25, Low level expanded: 2297.60\n"
     ]
    },
    {
     "data": {
      "application/vnd.jupyter.widget-view+json": {
       "model_id": "c7327e164cb248cc811388711341f12a",
       "version_major": 2,
       "version_minor": 0
      },
      "text/plain": [
       "  0%|          | 0/20 [00:00<?, ?it/s]"
      ]
     },
     "metadata": {},
     "output_type": "display_data"
    },
    {
     "name": "stdout",
     "output_type": "stream",
     "text": [
      "Num actors: 10, Rate: 1.00, High level expanded: 1.65, Low level expanded: 7141.25\n"
     ]
    },
    {
     "data": {
      "application/vnd.jupyter.widget-view+json": {
       "model_id": "852b0871fadb4fc0ba2e4d26363e12ac",
       "version_major": 2,
       "version_minor": 0
      },
      "text/plain": [
       "  0%|          | 0/20 [00:00<?, ?it/s]"
      ]
     },
     "metadata": {},
     "output_type": "display_data"
    },
    {
     "name": "stdout",
     "output_type": "stream",
     "text": [
      "Num actors: 20, Rate: 1.00, High level expanded: 4.05, Low level expanded: 28271.85\n"
     ]
    },
    {
     "data": {
      "application/vnd.jupyter.widget-view+json": {
       "model_id": "40b01b716410447fac87e995928d46c5",
       "version_major": 2,
       "version_minor": 0
      },
      "text/plain": [
       "  0%|          | 0/20 [00:00<?, ?it/s]"
      ]
     },
     "metadata": {},
     "output_type": "display_data"
    },
    {
     "name": "stdout",
     "output_type": "stream",
     "text": [
      "Num actors: 30, Rate: 1.00, High level expanded: 5.70, Low level expanded: 44017.10\n"
     ]
    },
    {
     "data": {
      "application/vnd.jupyter.widget-view+json": {
       "model_id": "c9163db902ad4c24b358d11c92e8fb8e",
       "version_major": 2,
       "version_minor": 0
      },
      "text/plain": [
       "  0%|          | 0/20 [00:00<?, ?it/s]"
      ]
     },
     "metadata": {},
     "output_type": "display_data"
    },
    {
     "name": "stdout",
     "output_type": "stream",
     "text": [
      "Num actors: 40, Rate: 1.00, High level expanded: 8.85, Low level expanded: 74103.80\n"
     ]
    },
    {
     "data": {
      "application/vnd.jupyter.widget-view+json": {
       "model_id": "3e99e33328b24a16901ad457dc65ddc8",
       "version_major": 2,
       "version_minor": 0
      },
      "text/plain": [
       "  0%|          | 0/20 [00:00<?, ?it/s]"
      ]
     },
     "metadata": {},
     "output_type": "display_data"
    },
    {
     "name": "stdout",
     "output_type": "stream",
     "text": [
      "Num actors: 50, Rate: 1.00, High level expanded: 12.10, Low level expanded: 104986.05\n"
     ]
    },
    {
     "data": {
      "application/vnd.jupyter.widget-view+json": {
       "model_id": "83e89872338d4c89ab0a20b7672ec981",
       "version_major": 2,
       "version_minor": 0
      },
      "text/plain": [
       "  0%|          | 0/20 [00:00<?, ?it/s]"
      ]
     },
     "metadata": {},
     "output_type": "display_data"
    },
    {
     "name": "stdout",
     "output_type": "stream",
     "text": [
      "Num actors: 60, Rate: 1.00, High level expanded: 15.05, Low level expanded: 134369.50\n"
     ]
    },
    {
     "data": {
      "application/vnd.jupyter.widget-view+json": {
       "model_id": "573e5a6c5db640938de7b6eeb6206108",
       "version_major": 2,
       "version_minor": 0
      },
      "text/plain": [
       "  0%|          | 0/20 [00:00<?, ?it/s]"
      ]
     },
     "metadata": {},
     "output_type": "display_data"
    },
    {
     "name": "stdout",
     "output_type": "stream",
     "text": [
      "Num actors: 70, Rate: 1.00, High level expanded: 18.95, Low level expanded: 168669.15\n"
     ]
    },
    {
     "data": {
      "application/vnd.jupyter.widget-view+json": {
       "model_id": "564d805cef0e424f9bd734b98addd00f",
       "version_major": 2,
       "version_minor": 0
      },
      "text/plain": [
       "  0%|          | 0/20 [00:00<?, ?it/s]"
      ]
     },
     "metadata": {},
     "output_type": "display_data"
    },
    {
     "name": "stdout",
     "output_type": "stream",
     "text": [
      "Num actors: 80, Rate: 1.00, High level expanded: 22.90, Low level expanded: 203918.75\n"
     ]
    },
    {
     "data": {
      "application/vnd.jupyter.widget-view+json": {
       "model_id": "ffcbd29dca0d41debe4e9b6dd2407b40",
       "version_major": 2,
       "version_minor": 0
      },
      "text/plain": [
       "  0%|          | 0/20 [00:00<?, ?it/s]"
      ]
     },
     "metadata": {},
     "output_type": "display_data"
    },
    {
     "name": "stdout",
     "output_type": "stream",
     "text": [
      "Num actors: 90, Rate: 1.00, High level expanded: 27.00, Low level expanded: 239681.00\n"
     ]
    },
    {
     "data": {
      "text/plain": [
       "[(1.0, 1.25, 2297.6),\n",
       " (1.0, 1.65, 7141.25),\n",
       " (1.0, 4.05, 28271.85),\n",
       " (1.0, 5.7, 44017.1),\n",
       " (1.0, 8.85, 74103.8),\n",
       " (1.0, 12.1, 104986.05),\n",
       " (1.0, 15.05, 134369.5),\n",
       " (1.0, 18.95, 168669.15),\n",
       " (1.0, 22.9, 203918.75),\n",
       " (1.0, 27.0, 239681.0)]"
      ]
     },
     "execution_count": 7,
     "metadata": {},
     "output_type": "execute_result"
    }
   ],
   "source": [
    "# ECBS random-32x32x10 w=1.5 more agents\n",
    "rand_ecbs15 = gen_rate_list('ECBS', 'random-32-32-10.map', 'random-32-32-10-even-1.scen',rand_actors, w=1.5)\n",
    "rand_ecbs15"
   ]
  },
  {
   "cell_type": "code",
   "execution_count": 8,
   "id": "143f7215",
   "metadata": {},
   "outputs": [
    {
     "data": {
      "application/vnd.jupyter.widget-view+json": {
       "model_id": "10d092f5457742bf930645becb110e5d",
       "version_major": 2,
       "version_minor": 0
      },
      "text/plain": [
       "  0%|          | 0/20 [00:00<?, ?it/s]"
      ]
     },
     "metadata": {},
     "output_type": "display_data"
    },
    {
     "name": "stdout",
     "output_type": "stream",
     "text": [
      "Num actors: 5, Rate: 1.00, High level expanded: 1.25, Low level expanded: 1972.40\n"
     ]
    },
    {
     "data": {
      "application/vnd.jupyter.widget-view+json": {
       "model_id": "54764eea60fb409e896e8fc7db5d6242",
       "version_major": 2,
       "version_minor": 0
      },
      "text/plain": [
       "  0%|          | 0/20 [00:00<?, ?it/s]"
      ]
     },
     "metadata": {},
     "output_type": "display_data"
    },
    {
     "name": "stdout",
     "output_type": "stream",
     "text": [
      "Num actors: 10, Rate: 1.00, High level expanded: 1.65, Low level expanded: 5828.35\n"
     ]
    },
    {
     "data": {
      "application/vnd.jupyter.widget-view+json": {
       "model_id": "8625d3f087194785894ab2b8b5627420",
       "version_major": 2,
       "version_minor": 0
      },
      "text/plain": [
       "  0%|          | 0/20 [00:00<?, ?it/s]"
      ]
     },
     "metadata": {},
     "output_type": "display_data"
    },
    {
     "name": "stdout",
     "output_type": "stream",
     "text": [
      "Num actors: 20, Rate: 1.00, High level expanded: 4.05, Low level expanded: 21742.40\n"
     ]
    },
    {
     "data": {
      "application/vnd.jupyter.widget-view+json": {
       "model_id": "7e4c3fcff8c64e4b9eb13e79b0e999e2",
       "version_major": 2,
       "version_minor": 0
      },
      "text/plain": [
       "  0%|          | 0/20 [00:00<?, ?it/s]"
      ]
     },
     "metadata": {},
     "output_type": "display_data"
    },
    {
     "name": "stdout",
     "output_type": "stream",
     "text": [
      "Num actors: 30, Rate: 1.00, High level expanded: 5.70, Low level expanded: 32935.85\n"
     ]
    },
    {
     "data": {
      "application/vnd.jupyter.widget-view+json": {
       "model_id": "84f08b2d65df4ad1916262e6c108fde2",
       "version_major": 2,
       "version_minor": 0
      },
      "text/plain": [
       "  0%|          | 0/20 [00:00<?, ?it/s]"
      ]
     },
     "metadata": {},
     "output_type": "display_data"
    },
    {
     "name": "stdout",
     "output_type": "stream",
     "text": [
      "Num actors: 40, Rate: 1.00, High level expanded: 8.85, Low level expanded: 53809.70\n"
     ]
    },
    {
     "data": {
      "application/vnd.jupyter.widget-view+json": {
       "model_id": "b279ae469d0e4d1e9b4ce4bc0b76c473",
       "version_major": 2,
       "version_minor": 0
      },
      "text/plain": [
       "  0%|          | 0/20 [00:00<?, ?it/s]"
      ]
     },
     "metadata": {},
     "output_type": "display_data"
    },
    {
     "name": "stdout",
     "output_type": "stream",
     "text": [
      "Num actors: 50, Rate: 1.00, High level expanded: 12.25, Low level expanded: 76113.60\n"
     ]
    },
    {
     "data": {
      "application/vnd.jupyter.widget-view+json": {
       "model_id": "195a7e4ef9c440668869d224dcaa545b",
       "version_major": 2,
       "version_minor": 0
      },
      "text/plain": [
       "  0%|          | 0/20 [00:00<?, ?it/s]"
      ]
     },
     "metadata": {},
     "output_type": "display_data"
    },
    {
     "name": "stdout",
     "output_type": "stream",
     "text": [
      "Num actors: 60, Rate: 1.00, High level expanded: 15.10, Low level expanded: 94969.95\n"
     ]
    },
    {
     "data": {
      "application/vnd.jupyter.widget-view+json": {
       "model_id": "942a70164086411b886c938b86d662b5",
       "version_major": 2,
       "version_minor": 0
      },
      "text/plain": [
       "  0%|          | 0/20 [00:00<?, ?it/s]"
      ]
     },
     "metadata": {},
     "output_type": "display_data"
    },
    {
     "name": "stdout",
     "output_type": "stream",
     "text": [
      "Num actors: 70, Rate: 1.00, High level expanded: 18.85, Low level expanded: 117092.55\n"
     ]
    },
    {
     "data": {
      "application/vnd.jupyter.widget-view+json": {
       "model_id": "470737df712344c3b6e89893ee571506",
       "version_major": 2,
       "version_minor": 0
      },
      "text/plain": [
       "  0%|          | 0/20 [00:00<?, ?it/s]"
      ]
     },
     "metadata": {},
     "output_type": "display_data"
    },
    {
     "name": "stdout",
     "output_type": "stream",
     "text": [
      "Num actors: 80, Rate: 1.00, High level expanded: 22.85, Low level expanded: 139537.10\n"
     ]
    },
    {
     "data": {
      "application/vnd.jupyter.widget-view+json": {
       "model_id": "f7c31f2f6b384dbea0180ed8a8d445be",
       "version_major": 2,
       "version_minor": 0
      },
      "text/plain": [
       "  0%|          | 0/20 [00:00<?, ?it/s]"
      ]
     },
     "metadata": {},
     "output_type": "display_data"
    },
    {
     "name": "stdout",
     "output_type": "stream",
     "text": [
      "Num actors: 90, Rate: 1.00, High level expanded: 27.00, Low level expanded: 160758.00\n"
     ]
    },
    {
     "data": {
      "text/plain": [
       "[(1.0, 1.25, 1972.4),\n",
       " (1.0, 1.65, 5828.35),\n",
       " (1.0, 4.05, 21742.4),\n",
       " (1.0, 5.7, 32935.85),\n",
       " (1.0, 8.85, 53809.7),\n",
       " (1.0, 12.25, 76113.6),\n",
       " (1.0, 15.1, 94969.95),\n",
       " (1.0, 18.85, 117092.55),\n",
       " (1.0, 22.85, 139537.1),\n",
       " (1.0, 27.0, 160758.0)]"
      ]
     },
     "execution_count": 8,
     "metadata": {},
     "output_type": "execute_result"
    }
   ],
   "source": [
    "# ECBS random-32x32x10 w=1.3 more agents\n",
    "rand_ecbs13 = gen_rate_list('ECBS', 'random-32-32-10.map', 'random-32-32-10-even-1.scen', rand_actors, w=1.3)\n",
    "rand_ecbs13"
   ]
  },
  {
   "cell_type": "code",
   "execution_count": 9,
   "id": "e9b94bd1",
   "metadata": {},
   "outputs": [
    {
     "data": {
      "application/vnd.jupyter.widget-view+json": {
       "model_id": "29037c025de7481e83ef9fca8d232436",
       "version_major": 2,
       "version_minor": 0
      },
      "text/plain": [
       "  0%|          | 0/20 [00:00<?, ?it/s]"
      ]
     },
     "metadata": {},
     "output_type": "display_data"
    },
    {
     "name": "stdout",
     "output_type": "stream",
     "text": [
      "Num actors: 5, Rate: 1.00, High level expanded: 1.25, Low level expanded: 1626.60\n"
     ]
    },
    {
     "data": {
      "application/vnd.jupyter.widget-view+json": {
       "model_id": "bccb8cfa0b4d4acda8e9c97e6055ef8d",
       "version_major": 2,
       "version_minor": 0
      },
      "text/plain": [
       "  0%|          | 0/20 [00:00<?, ?it/s]"
      ]
     },
     "metadata": {},
     "output_type": "display_data"
    },
    {
     "name": "stdout",
     "output_type": "stream",
     "text": [
      "Num actors: 10, Rate: 1.00, High level expanded: 1.65, Low level expanded: 4411.90\n"
     ]
    },
    {
     "data": {
      "application/vnd.jupyter.widget-view+json": {
       "model_id": "6742f931643b480ca22baf0bbcbad5cf",
       "version_major": 2,
       "version_minor": 0
      },
      "text/plain": [
       "  0%|          | 0/20 [00:00<?, ?it/s]"
      ]
     },
     "metadata": {},
     "output_type": "display_data"
    },
    {
     "name": "stdout",
     "output_type": "stream",
     "text": [
      "Num actors: 20, Rate: 1.00, High level expanded: 4.05, Low level expanded: 13602.95\n"
     ]
    },
    {
     "data": {
      "application/vnd.jupyter.widget-view+json": {
       "model_id": "e4c6000a927747a8bbd1be972dabe3ff",
       "version_major": 2,
       "version_minor": 0
      },
      "text/plain": [
       "  0%|          | 0/20 [00:00<?, ?it/s]"
      ]
     },
     "metadata": {},
     "output_type": "display_data"
    },
    {
     "name": "stdout",
     "output_type": "stream",
     "text": [
      "Num actors: 30, Rate: 1.00, High level expanded: 5.95, Low level expanded: 20245.10\n"
     ]
    },
    {
     "data": {
      "application/vnd.jupyter.widget-view+json": {
       "model_id": "2c684a71a4044e2baab9e658942f8893",
       "version_major": 2,
       "version_minor": 0
      },
      "text/plain": [
       "  0%|          | 0/20 [00:00<?, ?it/s]"
      ]
     },
     "metadata": {},
     "output_type": "display_data"
    },
    {
     "name": "stdout",
     "output_type": "stream",
     "text": [
      "Num actors: 40, Rate: 1.00, High level expanded: 9.60, Low level expanded: 33060.50\n"
     ]
    },
    {
     "data": {
      "application/vnd.jupyter.widget-view+json": {
       "model_id": "0a72148bdb6749649d852f919a4bb0c3",
       "version_major": 2,
       "version_minor": 0
      },
      "text/plain": [
       "  0%|          | 0/20 [00:00<?, ?it/s]"
      ]
     },
     "metadata": {},
     "output_type": "display_data"
    },
    {
     "name": "stdout",
     "output_type": "stream",
     "text": [
      "Num actors: 50, Rate: 1.00, High level expanded: 14.15, Low level expanded: 46718.20\n"
     ]
    },
    {
     "data": {
      "application/vnd.jupyter.widget-view+json": {
       "model_id": "6236343535874bd1838b48a5613fd46c",
       "version_major": 2,
       "version_minor": 0
      },
      "text/plain": [
       "  0%|          | 0/20 [00:00<?, ?it/s]"
      ]
     },
     "metadata": {},
     "output_type": "display_data"
    },
    {
     "name": "stdout",
     "output_type": "stream",
     "text": [
      "Num actors: 60, Rate: 1.00, High level expanded: 17.25, Low level expanded: 58086.30\n"
     ]
    },
    {
     "data": {
      "application/vnd.jupyter.widget-view+json": {
       "model_id": "42fee94f10654964bb3c7c830d37fa04",
       "version_major": 2,
       "version_minor": 0
      },
      "text/plain": [
       "  0%|          | 0/20 [00:00<?, ?it/s]"
      ]
     },
     "metadata": {},
     "output_type": "display_data"
    },
    {
     "name": "stdout",
     "output_type": "stream",
     "text": [
      "Num actors: 70, Rate: 1.00, High level expanded: 22.95, Low level expanded: 75856.25\n"
     ]
    },
    {
     "data": {
      "application/vnd.jupyter.widget-view+json": {
       "model_id": "75405cbf3151458bbd9b1f76668291e5",
       "version_major": 2,
       "version_minor": 0
      },
      "text/plain": [
       "  0%|          | 0/20 [00:00<?, ?it/s]"
      ]
     },
     "metadata": {},
     "output_type": "display_data"
    },
    {
     "name": "stdout",
     "output_type": "stream",
     "text": [
      "Num actors: 80, Rate: 1.00, High level expanded: 28.55, Low level expanded: 92388.85\n"
     ]
    },
    {
     "data": {
      "application/vnd.jupyter.widget-view+json": {
       "model_id": "e28230a1866647ef9a5d29638c0298be",
       "version_major": 2,
       "version_minor": 0
      },
      "text/plain": [
       "  0%|          | 0/20 [00:00<?, ?it/s]"
      ]
     },
     "metadata": {},
     "output_type": "display_data"
    },
    {
     "name": "stdout",
     "output_type": "stream",
     "text": [
      "Num actors: 90, Rate: 1.00, High level expanded: 33.00, Low level expanded: 101812.00\n"
     ]
    },
    {
     "data": {
      "text/plain": [
       "[(1.0, 1.25, 1626.6),\n",
       " (1.0, 1.65, 4411.9),\n",
       " (1.0, 4.05, 13602.95),\n",
       " (1.0, 5.95, 20245.1),\n",
       " (1.0, 9.6, 33060.5),\n",
       " (1.0, 14.15, 46718.2),\n",
       " (1.0, 17.25, 58086.3),\n",
       " (1.0, 22.95, 75856.25),\n",
       " (1.0, 28.55, 92388.85),\n",
       " (1.0, 33.0, 101812.0)]"
      ]
     },
     "execution_count": 9,
     "metadata": {},
     "output_type": "execute_result"
    }
   ],
   "source": [
    "# ECBS random-32x32x10 w=1.1 more agents\n",
    "rand_ecbs11 = gen_rate_list('ECBS', 'random-32-32-10.map', 'random-32-32-10-even-1.scen', rand_actors, w=1.1)\n",
    "rand_ecbs11"
   ]
  },
  {
   "cell_type": "code",
   "execution_count": 15,
   "id": "b836a446",
   "metadata": {},
   "outputs": [],
   "source": [
    "maze_actors = [5, 10, 20, 30, 40, 50, 60, 70, 80, 90, 100]"
   ]
  },
  {
   "cell_type": "code",
   "execution_count": 26,
   "id": "99f24dac",
   "metadata": {},
   "outputs": [
    {
     "data": {
      "application/vnd.jupyter.widget-view+json": {
       "model_id": "b4aed8076e3045bdaf23c80dc647f9d0",
       "version_major": 2,
       "version_minor": 0
      },
      "text/plain": [
       "  0%|          | 0/20 [00:00<?, ?it/s]"
      ]
     },
     "metadata": {},
     "output_type": "display_data"
    },
    {
     "name": "stdout",
     "output_type": "stream",
     "text": [
      "Num actors: 5, Rate: 1.00, High level expanded: 1.55, Low level expanded: 14727.35\n"
     ]
    },
    {
     "data": {
      "application/vnd.jupyter.widget-view+json": {
       "model_id": "5767f03aeb724247b41c04159a14e6e6",
       "version_major": 2,
       "version_minor": 0
      },
      "text/plain": [
       "  0%|          | 0/20 [00:00<?, ?it/s]"
      ]
     },
     "metadata": {},
     "output_type": "display_data"
    },
    {
     "name": "stdout",
     "output_type": "stream",
     "text": [
      "Num actors: 10, Rate: 1.00, High level expanded: 5.90, Low level expanded: 91009.15\n"
     ]
    },
    {
     "data": {
      "application/vnd.jupyter.widget-view+json": {
       "model_id": "fe9c5b6c408147ad9cc3a2c187f8073f",
       "version_major": 2,
       "version_minor": 0
      },
      "text/plain": [
       "  0%|          | 0/20 [00:00<?, ?it/s]"
      ]
     },
     "metadata": {},
     "output_type": "display_data"
    },
    {
     "name": "stdout",
     "output_type": "stream",
     "text": [
      "Num actors: 20, Rate: 0.70, High level expanded: 1313.79, Low level expanded: 19767258.50\n"
     ]
    },
    {
     "data": {
      "application/vnd.jupyter.widget-view+json": {
       "model_id": "44ea16a99d334f82988297e66593d0d1",
       "version_major": 2,
       "version_minor": 0
      },
      "text/plain": [
       "  0%|          | 0/20 [00:00<?, ?it/s]"
      ]
     },
     "metadata": {},
     "output_type": "display_data"
    },
    {
     "name": "stdout",
     "output_type": "stream",
     "text": [
      "Num actors: 30, Rate: 0.05, High level expanded: 3632.00, Low level expanded: 90649963.00\n"
     ]
    },
    {
     "data": {
      "text/plain": [
       "[(1.0, 1.55, 14727.35),\n",
       " (1.0, 5.9, 91009.15),\n",
       " (0.7, 1313.7857142857142, 19767258.5),\n",
       " (0.05, 3632.0, 90649963.0),\n",
       " (0.0, 0, 0),\n",
       " (0.0, 0, 0),\n",
       " (0.0, 0, 0),\n",
       " (0.0, 0, 0),\n",
       " (0.0, 0, 0),\n",
       " (0.0, 0, 0),\n",
       " (0.0, 0, 0)]"
      ]
     },
     "execution_count": 26,
     "metadata": {},
     "output_type": "execute_result"
    }
   ],
   "source": [
    "# CBS maze\n",
    "maze_cbs = gen_rate_list('CBS', 'maze-32-32-4.map', 'maze-32-32-4-even-1.scen', maze_actors)\n",
    "maze_cbs"
   ]
  },
  {
   "cell_type": "code",
   "execution_count": 16,
   "id": "eb9d9570",
   "metadata": {},
   "outputs": [
    {
     "data": {
      "application/vnd.jupyter.widget-view+json": {
       "model_id": "07a3883d053b478ea23cb5a34fcbb334",
       "version_major": 2,
       "version_minor": 0
      },
      "text/plain": [
       "  0%|          | 0/20 [00:00<?, ?it/s]"
      ]
     },
     "metadata": {},
     "output_type": "display_data"
    },
    {
     "name": "stdout",
     "output_type": "stream",
     "text": [
      "Num actors: 5, Rate: 1.00, High level expanded: 1.45, Low level expanded: 16079.40\n"
     ]
    },
    {
     "data": {
      "application/vnd.jupyter.widget-view+json": {
       "model_id": "5756efc98f8f4f16aad17eb23be09f6b",
       "version_major": 2,
       "version_minor": 0
      },
      "text/plain": [
       "  0%|          | 0/20 [00:00<?, ?it/s]"
      ]
     },
     "metadata": {},
     "output_type": "display_data"
    },
    {
     "name": "stdout",
     "output_type": "stream",
     "text": [
      "Num actors: 10, Rate: 1.00, High level expanded: 2.80, Low level expanded: 54444.25\n"
     ]
    },
    {
     "data": {
      "application/vnd.jupyter.widget-view+json": {
       "model_id": "aeb6fbec0ef5410884dea5d89fa87d78",
       "version_major": 2,
       "version_minor": 0
      },
      "text/plain": [
       "  0%|          | 0/20 [00:00<?, ?it/s]"
      ]
     },
     "metadata": {},
     "output_type": "display_data"
    },
    {
     "name": "stdout",
     "output_type": "stream",
     "text": [
      "Num actors: 20, Rate: 1.00, High level expanded: 6.65, Low level expanded: 154593.05\n"
     ]
    },
    {
     "data": {
      "application/vnd.jupyter.widget-view+json": {
       "model_id": "49a7ba541ed140df99ee0cc0c69ee589",
       "version_major": 2,
       "version_minor": 0
      },
      "text/plain": [
       "  0%|          | 0/20 [00:00<?, ?it/s]"
      ]
     },
     "metadata": {},
     "output_type": "display_data"
    },
    {
     "name": "stdout",
     "output_type": "stream",
     "text": [
      "Num actors: 30, Rate: 1.00, High level expanded: 11.35, Low level expanded: 285660.65\n"
     ]
    },
    {
     "data": {
      "application/vnd.jupyter.widget-view+json": {
       "model_id": "ec08652423404d62a6eff09d06423922",
       "version_major": 2,
       "version_minor": 0
      },
      "text/plain": [
       "  0%|          | 0/20 [00:00<?, ?it/s]"
      ]
     },
     "metadata": {},
     "output_type": "display_data"
    },
    {
     "name": "stdout",
     "output_type": "stream",
     "text": [
      "Num actors: 40, Rate: 1.00, High level expanded: 20.65, Low level expanded: 558033.30\n"
     ]
    },
    {
     "data": {
      "application/vnd.jupyter.widget-view+json": {
       "model_id": "b7bfa9d6f5824122ba3018626f5d2795",
       "version_major": 2,
       "version_minor": 0
      },
      "text/plain": [
       "  0%|          | 0/20 [00:00<?, ?it/s]"
      ]
     },
     "metadata": {},
     "output_type": "display_data"
    },
    {
     "name": "stdout",
     "output_type": "stream",
     "text": [
      "Num actors: 50, Rate: 1.00, High level expanded: 53.60, Low level expanded: 1390517.35\n"
     ]
    },
    {
     "data": {
      "application/vnd.jupyter.widget-view+json": {
       "model_id": "f5d2aa6941ad4de9b33a2f7309b534d5",
       "version_major": 2,
       "version_minor": 0
      },
      "text/plain": [
       "  0%|          | 0/20 [00:00<?, ?it/s]"
      ]
     },
     "metadata": {},
     "output_type": "display_data"
    },
    {
     "name": "stdout",
     "output_type": "stream",
     "text": [
      "Num actors: 60, Rate: 1.00, High level expanded: 90.20, Low level expanded: 2360795.20\n"
     ]
    },
    {
     "data": {
      "application/vnd.jupyter.widget-view+json": {
       "model_id": "c36692060dbe4e5bb24a08b4694def04",
       "version_major": 2,
       "version_minor": 0
      },
      "text/plain": [
       "  0%|          | 0/20 [00:00<?, ?it/s]"
      ]
     },
     "metadata": {},
     "output_type": "display_data"
    },
    {
     "name": "stdout",
     "output_type": "stream",
     "text": [
      "Num actors: 70, Rate: 0.80, High level expanded: 138.19, Low level expanded: 3985118.62\n"
     ]
    },
    {
     "data": {
      "application/vnd.jupyter.widget-view+json": {
       "model_id": "538c35b01abe4cb3a3107698db26b067",
       "version_major": 2,
       "version_minor": 0
      },
      "text/plain": [
       "  0%|          | 0/20 [00:00<?, ?it/s]"
      ]
     },
     "metadata": {},
     "output_type": "display_data"
    },
    {
     "name": "stdout",
     "output_type": "stream",
     "text": [
      "Num actors: 80, Rate: 0.75, High level expanded: 153.13, Low level expanded: 4097545.00\n"
     ]
    },
    {
     "data": {
      "application/vnd.jupyter.widget-view+json": {
       "model_id": "87ef2c09dc014355ad926d64e8a0a073",
       "version_major": 2,
       "version_minor": 0
      },
      "text/plain": [
       "  0%|          | 0/20 [00:00<?, ?it/s]"
      ]
     },
     "metadata": {},
     "output_type": "display_data"
    },
    {
     "name": "stdout",
     "output_type": "stream",
     "text": [
      "Num actors: 90, Rate: 0.75, High level expanded: 188.87, Low level expanded: 6110303.20\n"
     ]
    },
    {
     "data": {
      "application/vnd.jupyter.widget-view+json": {
       "model_id": "0b5f96627877460f95bcf1699840f262",
       "version_major": 2,
       "version_minor": 0
      },
      "text/plain": [
       "  0%|          | 0/20 [00:00<?, ?it/s]"
      ]
     },
     "metadata": {},
     "output_type": "display_data"
    },
    {
     "name": "stdout",
     "output_type": "stream",
     "text": [
      "Num actors: 100, Rate: 0.45, High level expanded: 241.67, Low level expanded: 7636940.11\n"
     ]
    },
    {
     "data": {
      "text/plain": [
       "[(1.0, 1.45, 16079.4),\n",
       " (1.0, 2.8, 54444.25),\n",
       " (1.0, 6.65, 154593.05),\n",
       " (1.0, 11.35, 285660.65),\n",
       " (1.0, 20.65, 558033.3),\n",
       " (1.0, 53.6, 1390517.35),\n",
       " (1.0, 90.2, 2360795.2),\n",
       " (0.8, 138.1875, 3985118.625),\n",
       " (0.75, 153.13333333333333, 4097545.0),\n",
       " (0.75, 188.86666666666667, 6110303.2),\n",
       " (0.45, 241.66666666666666, 7636940.111111111)]"
      ]
     },
     "execution_count": 16,
     "metadata": {},
     "output_type": "execute_result"
    }
   ],
   "source": [
    "# ECBS maze w=1.5\n",
    "maze_ecbs15 = gen_rate_list('ECBS', 'maze-32-32-4.map', 'maze-32-32-4-even-1.scen', maze_actors, w=1.5)\n",
    "maze_ecbs15"
   ]
  },
  {
   "cell_type": "code",
   "execution_count": 24,
   "id": "b02205e8",
   "metadata": {},
   "outputs": [
    {
     "data": {
      "application/vnd.jupyter.widget-view+json": {
       "model_id": "c6b2cdff49af4ee0834c2ba67bfb251e",
       "version_major": 2,
       "version_minor": 0
      },
      "text/plain": [
       "  0%|          | 0/20 [00:00<?, ?it/s]"
      ]
     },
     "metadata": {},
     "output_type": "display_data"
    },
    {
     "name": "stdout",
     "output_type": "stream",
     "text": [
      "Num actors: 5, Rate: 1.00, High level expanded: 1.45, Low level expanded: 15200.30\n"
     ]
    },
    {
     "data": {
      "application/vnd.jupyter.widget-view+json": {
       "model_id": "55ceb05e4fda4314b6f61a2931ed8975",
       "version_major": 2,
       "version_minor": 0
      },
      "text/plain": [
       "  0%|          | 0/20 [00:00<?, ?it/s]"
      ]
     },
     "metadata": {},
     "output_type": "display_data"
    },
    {
     "name": "stdout",
     "output_type": "stream",
     "text": [
      "Num actors: 10, Rate: 1.00, High level expanded: 2.80, Low level expanded: 48304.75\n"
     ]
    },
    {
     "data": {
      "application/vnd.jupyter.widget-view+json": {
       "model_id": "4039c914bcd748c7ac74def432180a74",
       "version_major": 2,
       "version_minor": 0
      },
      "text/plain": [
       "  0%|          | 0/20 [00:00<?, ?it/s]"
      ]
     },
     "metadata": {},
     "output_type": "display_data"
    },
    {
     "name": "stdout",
     "output_type": "stream",
     "text": [
      "Num actors: 20, Rate: 1.00, High level expanded: 6.80, Low level expanded: 137246.45\n"
     ]
    },
    {
     "data": {
      "application/vnd.jupyter.widget-view+json": {
       "model_id": "5a3e2ea856ba474489293f5e826ef02f",
       "version_major": 2,
       "version_minor": 0
      },
      "text/plain": [
       "  0%|          | 0/20 [00:00<?, ?it/s]"
      ]
     },
     "metadata": {},
     "output_type": "display_data"
    },
    {
     "name": "stdout",
     "output_type": "stream",
     "text": [
      "Num actors: 30, Rate: 1.00, High level expanded: 12.15, Low level expanded: 276331.45\n"
     ]
    },
    {
     "data": {
      "application/vnd.jupyter.widget-view+json": {
       "model_id": "ff866fe1856041dcbcc998a594031c09",
       "version_major": 2,
       "version_minor": 0
      },
      "text/plain": [
       "  0%|          | 0/20 [00:00<?, ?it/s]"
      ]
     },
     "metadata": {},
     "output_type": "display_data"
    },
    {
     "name": "stdout",
     "output_type": "stream",
     "text": [
      "Num actors: 40, Rate: 1.00, High level expanded: 29.45, Low level expanded: 717626.30\n"
     ]
    },
    {
     "data": {
      "application/vnd.jupyter.widget-view+json": {
       "model_id": "d03ea33d872c474490b83e93e00da06d",
       "version_major": 2,
       "version_minor": 0
      },
      "text/plain": [
       "  0%|          | 0/20 [00:00<?, ?it/s]"
      ]
     },
     "metadata": {},
     "output_type": "display_data"
    },
    {
     "name": "stdout",
     "output_type": "stream",
     "text": [
      "Num actors: 50, Rate: 0.90, High level expanded: 70.22, Low level expanded: 1505417.50\n"
     ]
    },
    {
     "data": {
      "application/vnd.jupyter.widget-view+json": {
       "model_id": "d09ef989e8bc4ddf8402895e5c9ddb1d",
       "version_major": 2,
       "version_minor": 0
      },
      "text/plain": [
       "  0%|          | 0/20 [00:00<?, ?it/s]"
      ]
     },
     "metadata": {},
     "output_type": "display_data"
    },
    {
     "name": "stdout",
     "output_type": "stream",
     "text": [
      "Num actors: 60, Rate: 0.85, High level expanded: 113.00, Low level expanded: 2384281.71\n"
     ]
    },
    {
     "data": {
      "application/vnd.jupyter.widget-view+json": {
       "model_id": "be8865e49fd4458e98d17363a64ce4f3",
       "version_major": 2,
       "version_minor": 0
      },
      "text/plain": [
       "  0%|          | 0/20 [00:00<?, ?it/s]"
      ]
     },
     "metadata": {},
     "output_type": "display_data"
    },
    {
     "name": "stdout",
     "output_type": "stream",
     "text": [
      "Num actors: 70, Rate: 0.90, High level expanded: 185.94, Low level expanded: 4405942.61\n"
     ]
    },
    {
     "data": {
      "application/vnd.jupyter.widget-view+json": {
       "model_id": "afb053011b71465b91c7dc40e7794981",
       "version_major": 2,
       "version_minor": 0
      },
      "text/plain": [
       "  0%|          | 0/20 [00:00<?, ?it/s]"
      ]
     },
     "metadata": {},
     "output_type": "display_data"
    },
    {
     "name": "stdout",
     "output_type": "stream",
     "text": [
      "Num actors: 80, Rate: 0.65, High level expanded: 234.46, Low level expanded: 6000059.69\n"
     ]
    },
    {
     "data": {
      "application/vnd.jupyter.widget-view+json": {
       "model_id": "23107973ab684bb1813a8497ccf7e094",
       "version_major": 2,
       "version_minor": 0
      },
      "text/plain": [
       "  0%|          | 0/20 [00:00<?, ?it/s]"
      ]
     },
     "metadata": {},
     "output_type": "display_data"
    },
    {
     "name": "stdout",
     "output_type": "stream",
     "text": [
      "Num actors: 90, Rate: 0.35, High level expanded: 392.00, Low level expanded: 10862948.57\n"
     ]
    },
    {
     "data": {
      "application/vnd.jupyter.widget-view+json": {
       "model_id": "5b2e7d15026c4daba63138dd433527fa",
       "version_major": 2,
       "version_minor": 0
      },
      "text/plain": [
       "  0%|          | 0/20 [00:00<?, ?it/s]"
      ]
     },
     "metadata": {},
     "output_type": "display_data"
    },
    {
     "name": "stdout",
     "output_type": "stream",
     "text": [
      "Num actors: 100, Rate: 0.20, High level expanded: 445.75, Low level expanded: 9843569.50\n"
     ]
    },
    {
     "data": {
      "text/plain": [
       "[(1.0, 1.45, 15200.3),\n",
       " (1.0, 2.8, 48304.75),\n",
       " (1.0, 6.8, 137246.45),\n",
       " (1.0, 12.15, 276331.45),\n",
       " (1.0, 29.45, 717626.3),\n",
       " (0.9, 70.22222222222223, 1505417.5),\n",
       " (0.85, 113.0, 2384281.705882353),\n",
       " (0.9, 185.94444444444446, 4405942.611111111),\n",
       " (0.65, 234.46153846153845, 6000059.692307692),\n",
       " (0.35, 392.0, 10862948.57142857),\n",
       " (0.2, 445.75, 9843569.5)]"
      ]
     },
     "execution_count": 24,
     "metadata": {},
     "output_type": "execute_result"
    }
   ],
   "source": [
    "# ECBS maze w=1.3\n",
    "maze_ecbs13 = gen_rate_list('ECBS', 'maze-32-32-4.map', 'maze-32-32-4-even-1.scen', maze_actors, w=1.3)\n",
    "maze_ecbs13"
   ]
  },
  {
   "cell_type": "code",
   "execution_count": 25,
   "id": "c1f57f90",
   "metadata": {},
   "outputs": [
    {
     "data": {
      "application/vnd.jupyter.widget-view+json": {
       "model_id": "717e40c0b51d4329b922091a2976037f",
       "version_major": 2,
       "version_minor": 0
      },
      "text/plain": [
       "  0%|          | 0/20 [00:00<?, ?it/s]"
      ]
     },
     "metadata": {},
     "output_type": "display_data"
    },
    {
     "name": "stdout",
     "output_type": "stream",
     "text": [
      "Num actors: 5, Rate: 1.00, High level expanded: 1.45, Low level expanded: 12903.80\n"
     ]
    },
    {
     "data": {
      "application/vnd.jupyter.widget-view+json": {
       "model_id": "612360ae936849a8aceecfb5cc9980f0",
       "version_major": 2,
       "version_minor": 0
      },
      "text/plain": [
       "  0%|          | 0/20 [00:00<?, ?it/s]"
      ]
     },
     "metadata": {},
     "output_type": "display_data"
    },
    {
     "name": "stdout",
     "output_type": "stream",
     "text": [
      "Num actors: 10, Rate: 1.00, High level expanded: 2.70, Low level expanded: 36903.55\n"
     ]
    },
    {
     "data": {
      "application/vnd.jupyter.widget-view+json": {
       "model_id": "a7c12d6493bb4ed4804997985944996a",
       "version_major": 2,
       "version_minor": 0
      },
      "text/plain": [
       "  0%|          | 0/20 [00:00<?, ?it/s]"
      ]
     },
     "metadata": {},
     "output_type": "display_data"
    },
    {
     "name": "stdout",
     "output_type": "stream",
     "text": [
      "Num actors: 20, Rate: 1.00, High level expanded: 10.00, Low level expanded: 199532.30\n"
     ]
    },
    {
     "data": {
      "application/vnd.jupyter.widget-view+json": {
       "model_id": "00940800b5144427a24b1873df2fc8e4",
       "version_major": 2,
       "version_minor": 0
      },
      "text/plain": [
       "  0%|          | 0/20 [00:00<?, ?it/s]"
      ]
     },
     "metadata": {},
     "output_type": "display_data"
    },
    {
     "name": "stdout",
     "output_type": "stream",
     "text": [
      "Num actors: 30, Rate: 1.00, High level expanded: 16.30, Low level expanded: 296106.35\n"
     ]
    },
    {
     "data": {
      "application/vnd.jupyter.widget-view+json": {
       "model_id": "9e4f05a3a6d44fa1834599c4f9a048d0",
       "version_major": 2,
       "version_minor": 0
      },
      "text/plain": [
       "  0%|          | 0/20 [00:00<?, ?it/s]"
      ]
     },
     "metadata": {},
     "output_type": "display_data"
    },
    {
     "name": "stdout",
     "output_type": "stream",
     "text": [
      "Num actors: 40, Rate: 0.85, High level expanded: 36.24, Low level expanded: 695702.65\n"
     ]
    },
    {
     "data": {
      "application/vnd.jupyter.widget-view+json": {
       "model_id": "ba96579a537a4293af43c381b9cad156",
       "version_major": 2,
       "version_minor": 0
      },
      "text/plain": [
       "  0%|          | 0/20 [00:00<?, ?it/s]"
      ]
     },
     "metadata": {},
     "output_type": "display_data"
    },
    {
     "name": "stdout",
     "output_type": "stream",
     "text": [
      "Num actors: 50, Rate: 0.80, High level expanded: 135.81, Low level expanded: 3612445.25\n"
     ]
    },
    {
     "data": {
      "application/vnd.jupyter.widget-view+json": {
       "model_id": "5d37dfaa8e914b9bbf332148a86ea174",
       "version_major": 2,
       "version_minor": 0
      },
      "text/plain": [
       "  0%|          | 0/20 [00:00<?, ?it/s]"
      ]
     },
     "metadata": {},
     "output_type": "display_data"
    },
    {
     "name": "stdout",
     "output_type": "stream",
     "text": [
      "Num actors: 60, Rate: 0.70, High level expanded: 306.14, Low level expanded: 5435383.71\n"
     ]
    },
    {
     "data": {
      "application/vnd.jupyter.widget-view+json": {
       "model_id": "b25d0d0eae8a4dc988d94b77ccc4700c",
       "version_major": 2,
       "version_minor": 0
      },
      "text/plain": [
       "  0%|          | 0/20 [00:00<?, ?it/s]"
      ]
     },
     "metadata": {},
     "output_type": "display_data"
    },
    {
     "name": "stdout",
     "output_type": "stream",
     "text": [
      "Num actors: 70, Rate: 0.30, High level expanded: 187.83, Low level expanded: 2934516.33\n"
     ]
    },
    {
     "data": {
      "application/vnd.jupyter.widget-view+json": {
       "model_id": "b3b67a9ea5f741d1838cf28250aa96d0",
       "version_major": 2,
       "version_minor": 0
      },
      "text/plain": [
       "  0%|          | 0/20 [00:00<?, ?it/s]"
      ]
     },
     "metadata": {},
     "output_type": "display_data"
    },
    {
     "name": "stdout",
     "output_type": "stream",
     "text": [
      "Num actors: 80, Rate: 0.30, High level expanded: 623.00, Low level expanded: 12277785.33\n"
     ]
    },
    {
     "data": {
      "application/vnd.jupyter.widget-view+json": {
       "model_id": "197025ff319d4f95831d75e9daabbfc1",
       "version_major": 2,
       "version_minor": 0
      },
      "text/plain": [
       "  0%|          | 0/20 [00:00<?, ?it/s]"
      ]
     },
     "metadata": {},
     "output_type": "display_data"
    },
    {
     "name": "stdout",
     "output_type": "stream",
     "text": [
      "Num actors: 90, Rate: 0.05, High level expanded: 564.00, Low level expanded: 16271477.00\n"
     ]
    },
    {
     "data": {
      "text/plain": [
       "[(1.0, 1.45, 12903.8),\n",
       " (1.0, 2.7, 36903.55),\n",
       " (1.0, 10.0, 199532.3),\n",
       " (1.0, 16.3, 296106.35),\n",
       " (0.85, 36.23529411764706, 695702.6470588235),\n",
       " (0.8, 135.8125, 3612445.25),\n",
       " (0.7, 306.14285714285717, 5435383.714285715),\n",
       " (0.3, 187.83333333333334, 2934516.3333333335),\n",
       " (0.3, 623.0, 12277785.333333334),\n",
       " (0.05, 564.0, 16271477.0),\n",
       " (0.0, 0, 0)]"
      ]
     },
     "execution_count": 25,
     "metadata": {},
     "output_type": "execute_result"
    }
   ],
   "source": [
    "# ECBS maze w=1.1\n",
    "maze_ecbs11 = gen_rate_list('ECBS', 'maze-32-32-4.map', 'maze-32-32-4-even-1.scen', maze_actors, w=1.1)\n",
    "maze_ecbs11"
   ]
  },
  {
   "cell_type": "code",
   "execution_count": 27,
   "id": "3c425f3f",
   "metadata": {},
   "outputs": [],
   "source": [
    "den_actors = [5, 10, 20, 30, 40, 50, 60, 70, 80, 90, 100]"
   ]
  },
  {
   "cell_type": "code",
   "execution_count": 28,
   "id": "71d693e4",
   "metadata": {},
   "outputs": [
    {
     "data": {
      "application/vnd.jupyter.widget-view+json": {
       "model_id": "09cb46b23974453ea0ff9f8cd5484e7f",
       "version_major": 2,
       "version_minor": 0
      },
      "text/plain": [
       "  0%|          | 0/20 [00:00<?, ?it/s]"
      ]
     },
     "metadata": {},
     "output_type": "display_data"
    },
    {
     "name": "stdout",
     "output_type": "stream",
     "text": [
      "Num actors: 5, Rate: 1.00, High level expanded: 1.40, Low level expanded: 16472.65\n"
     ]
    },
    {
     "data": {
      "application/vnd.jupyter.widget-view+json": {
       "model_id": "49c2523154734a6b839abe735f57541b",
       "version_major": 2,
       "version_minor": 0
      },
      "text/plain": [
       "  0%|          | 0/20 [00:00<?, ?it/s]"
      ]
     },
     "metadata": {},
     "output_type": "display_data"
    },
    {
     "name": "stdout",
     "output_type": "stream",
     "text": [
      "Num actors: 10, Rate: 0.95, High level expanded: 4.37, Low level expanded: 131157.32\n"
     ]
    },
    {
     "data": {
      "application/vnd.jupyter.widget-view+json": {
       "model_id": "3da0e7fafc8d4ba1ab5ba88c209bfac3",
       "version_major": 2,
       "version_minor": 0
      },
      "text/plain": [
       "  0%|          | 0/20 [00:00<?, ?it/s]"
      ]
     },
     "metadata": {},
     "output_type": "display_data"
    },
    {
     "name": "stdout",
     "output_type": "stream",
     "text": [
      "Num actors: 20, Rate: 0.65, High level expanded: 322.23, Low level expanded: 10552317.69\n"
     ]
    },
    {
     "data": {
      "application/vnd.jupyter.widget-view+json": {
       "model_id": "736eed061a5e48c29000f140ff1be89c",
       "version_major": 2,
       "version_minor": 0
      },
      "text/plain": [
       "  0%|          | 0/20 [00:00<?, ?it/s]"
      ]
     },
     "metadata": {},
     "output_type": "display_data"
    },
    {
     "name": "stdout",
     "output_type": "stream",
     "text": [
      "Num actors: 30, Rate: 0.25, High level expanded: 1065.60, Low level expanded: 39920976.40\n"
     ]
    },
    {
     "data": {
      "application/vnd.jupyter.widget-view+json": {
       "model_id": "13299e18948646308fb729a1741db491",
       "version_major": 2,
       "version_minor": 0
      },
      "text/plain": [
       "  0%|          | 0/20 [00:00<?, ?it/s]"
      ]
     },
     "metadata": {},
     "output_type": "display_data"
    },
    {
     "name": "stdout",
     "output_type": "stream",
     "text": [
      "Num actors: 40, Rate: 0.00, High level expanded: 0.00, Low level expanded: 0.00\n"
     ]
    },
    {
     "data": {
      "text/plain": [
       "[(1.0, 1.4, 16472.65),\n",
       " (0.95, 4.368421052631579, 131157.31578947368),\n",
       " (0.65, 322.2307692307692, 10552317.692307692),\n",
       " (0.25, 1065.6, 39920976.4),\n",
       " (0, 0, 0),\n",
       " (0.0, 0, 0),\n",
       " (0.0, 0, 0),\n",
       " (0.0, 0, 0),\n",
       " (0.0, 0, 0),\n",
       " (0.0, 0, 0),\n",
       " (0.0, 0, 0)]"
      ]
     },
     "execution_count": 28,
     "metadata": {},
     "output_type": "execute_result"
    }
   ],
   "source": [
    "# CBS den312d \n",
    "den_cbs = gen_rate_list('CBS', 'den312d.map', 'den312d-even-1.scen', den_actors)\n",
    "den_cbs"
   ]
  },
  {
   "cell_type": "code",
   "execution_count": 29,
   "id": "1a94c517",
   "metadata": {},
   "outputs": [
    {
     "data": {
      "application/vnd.jupyter.widget-view+json": {
       "model_id": "43e1e03781414ebaac3d6c2ccd4953ff",
       "version_major": 2,
       "version_minor": 0
      },
      "text/plain": [
       "  0%|          | 0/20 [00:00<?, ?it/s]"
      ]
     },
     "metadata": {},
     "output_type": "display_data"
    },
    {
     "name": "stdout",
     "output_type": "stream",
     "text": [
      "Num actors: 5, Rate: 1.00, High level expanded: 1.30, Low level expanded: 34266.15\n"
     ]
    },
    {
     "data": {
      "application/vnd.jupyter.widget-view+json": {
       "model_id": "b7e6d0a306f04d05a7729354a027364e",
       "version_major": 2,
       "version_minor": 0
      },
      "text/plain": [
       "  0%|          | 0/20 [00:00<?, ?it/s]"
      ]
     },
     "metadata": {},
     "output_type": "display_data"
    },
    {
     "name": "stdout",
     "output_type": "stream",
     "text": [
      "Num actors: 10, Rate: 1.00, High level expanded: 2.50, Low level expanded: 147997.30\n"
     ]
    },
    {
     "data": {
      "application/vnd.jupyter.widget-view+json": {
       "model_id": "c0934bdff7364236a40034eefd245cf5",
       "version_major": 2,
       "version_minor": 0
      },
      "text/plain": [
       "  0%|          | 0/20 [00:00<?, ?it/s]"
      ]
     },
     "metadata": {},
     "output_type": "display_data"
    },
    {
     "name": "stdout",
     "output_type": "stream",
     "text": [
      "Num actors: 20, Rate: 1.00, High level expanded: 4.85, Low level expanded: 419874.90\n"
     ]
    },
    {
     "data": {
      "application/vnd.jupyter.widget-view+json": {
       "model_id": "3ad50c5bc310471cb6acd44fc7cddcf4",
       "version_major": 2,
       "version_minor": 0
      },
      "text/plain": [
       "  0%|          | 0/20 [00:00<?, ?it/s]"
      ]
     },
     "metadata": {},
     "output_type": "display_data"
    },
    {
     "name": "stdout",
     "output_type": "stream",
     "text": [
      "Num actors: 30, Rate: 1.00, High level expanded: 8.70, Low level expanded: 793625.95\n"
     ]
    },
    {
     "data": {
      "application/vnd.jupyter.widget-view+json": {
       "model_id": "7e1cb5c8449b49c9b61a549115a45261",
       "version_major": 2,
       "version_minor": 0
      },
      "text/plain": [
       "  0%|          | 0/20 [00:00<?, ?it/s]"
      ]
     },
     "metadata": {},
     "output_type": "display_data"
    },
    {
     "name": "stdout",
     "output_type": "stream",
     "text": [
      "Num actors: 40, Rate: 1.00, High level expanded: 13.05, Low level expanded: 1224775.50\n"
     ]
    },
    {
     "data": {
      "application/vnd.jupyter.widget-view+json": {
       "model_id": "945f2288db734711aaa4051ad2c19864",
       "version_major": 2,
       "version_minor": 0
      },
      "text/plain": [
       "  0%|          | 0/20 [00:00<?, ?it/s]"
      ]
     },
     "metadata": {},
     "output_type": "display_data"
    },
    {
     "name": "stdout",
     "output_type": "stream",
     "text": [
      "Num actors: 50, Rate: 1.00, High level expanded: 18.20, Low level expanded: 1688690.40\n"
     ]
    },
    {
     "data": {
      "application/vnd.jupyter.widget-view+json": {
       "model_id": "d1eb7c2d777a462cb61bfc2dc2ce8955",
       "version_major": 2,
       "version_minor": 0
      },
      "text/plain": [
       "  0%|          | 0/20 [00:00<?, ?it/s]"
      ]
     },
     "metadata": {},
     "output_type": "display_data"
    },
    {
     "name": "stdout",
     "output_type": "stream",
     "text": [
      "Num actors: 60, Rate: 1.00, High level expanded: 22.55, Low level expanded: 2028463.00\n"
     ]
    },
    {
     "data": {
      "application/vnd.jupyter.widget-view+json": {
       "model_id": "2fa7653e726c468db17250450946d1af",
       "version_major": 2,
       "version_minor": 0
      },
      "text/plain": [
       "  0%|          | 0/20 [00:00<?, ?it/s]"
      ]
     },
     "metadata": {},
     "output_type": "display_data"
    },
    {
     "name": "stdout",
     "output_type": "stream",
     "text": [
      "Num actors: 70, Rate: 1.00, High level expanded: 28.70, Low level expanded: 2634863.35\n"
     ]
    },
    {
     "data": {
      "application/vnd.jupyter.widget-view+json": {
       "model_id": "1aa0fcfb501c4b88967bf5ba96cfc665",
       "version_major": 2,
       "version_minor": 0
      },
      "text/plain": [
       "  0%|          | 0/20 [00:00<?, ?it/s]"
      ]
     },
     "metadata": {},
     "output_type": "display_data"
    },
    {
     "name": "stdout",
     "output_type": "stream",
     "text": [
      "Num actors: 80, Rate: 1.00, High level expanded: 39.75, Low level expanded: 3597905.80\n"
     ]
    },
    {
     "data": {
      "application/vnd.jupyter.widget-view+json": {
       "model_id": "f80ca774fcfc47a88455d60cbb49552a",
       "version_major": 2,
       "version_minor": 0
      },
      "text/plain": [
       "  0%|          | 0/20 [00:00<?, ?it/s]"
      ]
     },
     "metadata": {},
     "output_type": "display_data"
    },
    {
     "name": "stdout",
     "output_type": "stream",
     "text": [
      "Num actors: 90, Rate: 1.00, High level expanded: 53.20, Low level expanded: 5038232.00\n"
     ]
    },
    {
     "data": {
      "application/vnd.jupyter.widget-view+json": {
       "model_id": "91113941b9e248bea7e455caa6661bf6",
       "version_major": 2,
       "version_minor": 0
      },
      "text/plain": [
       "  0%|          | 0/20 [00:00<?, ?it/s]"
      ]
     },
     "metadata": {},
     "output_type": "display_data"
    },
    {
     "name": "stdout",
     "output_type": "stream",
     "text": [
      "Num actors: 100, Rate: 0.95, High level expanded: 52.95, Low level expanded: 4976657.89\n"
     ]
    },
    {
     "data": {
      "text/plain": [
       "[(1.0, 1.3, 34266.15),\n",
       " (1.0, 2.5, 147997.3),\n",
       " (1.0, 4.85, 419874.9),\n",
       " (1.0, 8.7, 793625.95),\n",
       " (1.0, 13.05, 1224775.5),\n",
       " (1.0, 18.2, 1688690.4),\n",
       " (1.0, 22.55, 2028463.0),\n",
       " (1.0, 28.7, 2634863.35),\n",
       " (1.0, 39.75, 3597905.8),\n",
       " (1.0, 53.2, 5038232.0),\n",
       " (0.95, 52.94736842105263, 4976657.894736842)]"
      ]
     },
     "execution_count": 29,
     "metadata": {},
     "output_type": "execute_result"
    }
   ],
   "source": [
    "# ECBS den312d w=1.5\n",
    "den_ecbs15 = gen_rate_list('ECBS', 'den312d.map', 'den312d-even-1.scen', den_actors, w=1.5)\n",
    "den_ecbs15"
   ]
  },
  {
   "cell_type": "code",
   "execution_count": 30,
   "id": "45a0438f",
   "metadata": {},
   "outputs": [
    {
     "data": {
      "application/vnd.jupyter.widget-view+json": {
       "model_id": "7ec6bf67164648ebaebb7a517dd2f042",
       "version_major": 2,
       "version_minor": 0
      },
      "text/plain": [
       "  0%|          | 0/20 [00:00<?, ?it/s]"
      ]
     },
     "metadata": {},
     "output_type": "display_data"
    },
    {
     "name": "stdout",
     "output_type": "stream",
     "text": [
      "Num actors: 5, Rate: 1.00, High level expanded: 1.30, Low level expanded: 25913.05\n"
     ]
    },
    {
     "data": {
      "application/vnd.jupyter.widget-view+json": {
       "model_id": "ed1f16e9cf12484db07790e55e93c085",
       "version_major": 2,
       "version_minor": 0
      },
      "text/plain": [
       "  0%|          | 0/20 [00:00<?, ?it/s]"
      ]
     },
     "metadata": {},
     "output_type": "display_data"
    },
    {
     "name": "stdout",
     "output_type": "stream",
     "text": [
      "Num actors: 10, Rate: 1.00, High level expanded: 2.50, Low level expanded: 111967.80\n"
     ]
    },
    {
     "data": {
      "application/vnd.jupyter.widget-view+json": {
       "model_id": "f7d2d68017834519802146cd0201cf73",
       "version_major": 2,
       "version_minor": 0
      },
      "text/plain": [
       "  0%|          | 0/20 [00:00<?, ?it/s]"
      ]
     },
     "metadata": {},
     "output_type": "display_data"
    },
    {
     "name": "stdout",
     "output_type": "stream",
     "text": [
      "Num actors: 20, Rate: 1.00, High level expanded: 4.85, Low level expanded: 286961.85\n"
     ]
    },
    {
     "data": {
      "application/vnd.jupyter.widget-view+json": {
       "model_id": "5f5d7a324aa74715b1678c1d9413ceee",
       "version_major": 2,
       "version_minor": 0
      },
      "text/plain": [
       "  0%|          | 0/20 [00:00<?, ?it/s]"
      ]
     },
     "metadata": {},
     "output_type": "display_data"
    },
    {
     "name": "stdout",
     "output_type": "stream",
     "text": [
      "Num actors: 30, Rate: 1.00, High level expanded: 8.70, Low level expanded: 528712.55\n"
     ]
    },
    {
     "data": {
      "application/vnd.jupyter.widget-view+json": {
       "model_id": "c84682f5ae7a4269891114ab86326403",
       "version_major": 2,
       "version_minor": 0
      },
      "text/plain": [
       "  0%|          | 0/20 [00:00<?, ?it/s]"
      ]
     },
     "metadata": {},
     "output_type": "display_data"
    },
    {
     "name": "stdout",
     "output_type": "stream",
     "text": [
      "Num actors: 40, Rate: 1.00, High level expanded: 13.05, Low level expanded: 808468.30\n"
     ]
    },
    {
     "data": {
      "application/vnd.jupyter.widget-view+json": {
       "model_id": "e5f78b99c8bf4fadbda48e2b101b1bcd",
       "version_major": 2,
       "version_minor": 0
      },
      "text/plain": [
       "  0%|          | 0/20 [00:00<?, ?it/s]"
      ]
     },
     "metadata": {},
     "output_type": "display_data"
    },
    {
     "name": "stdout",
     "output_type": "stream",
     "text": [
      "Num actors: 50, Rate: 1.00, High level expanded: 18.15, Low level expanded: 1118123.60\n"
     ]
    },
    {
     "data": {
      "application/vnd.jupyter.widget-view+json": {
       "model_id": "0a180d7bb0ed48a7bd1eaa2a5bf53e31",
       "version_major": 2,
       "version_minor": 0
      },
      "text/plain": [
       "  0%|          | 0/20 [00:00<?, ?it/s]"
      ]
     },
     "metadata": {},
     "output_type": "display_data"
    },
    {
     "name": "stdout",
     "output_type": "stream",
     "text": [
      "Num actors: 60, Rate: 1.00, High level expanded: 23.80, Low level expanded: 1466630.15\n"
     ]
    },
    {
     "data": {
      "application/vnd.jupyter.widget-view+json": {
       "model_id": "da5a26f5380b4e5f80c6012789c711ee",
       "version_major": 2,
       "version_minor": 0
      },
      "text/plain": [
       "  0%|          | 0/20 [00:00<?, ?it/s]"
      ]
     },
     "metadata": {},
     "output_type": "display_data"
    },
    {
     "name": "stdout",
     "output_type": "stream",
     "text": [
      "Num actors: 70, Rate: 1.00, High level expanded: 29.25, Low level expanded: 1807911.05\n"
     ]
    },
    {
     "data": {
      "application/vnd.jupyter.widget-view+json": {
       "model_id": "5da8d4d0a9ae4c53a2eb806d78b7a52e",
       "version_major": 2,
       "version_minor": 0
      },
      "text/plain": [
       "  0%|          | 0/20 [00:00<?, ?it/s]"
      ]
     },
     "metadata": {},
     "output_type": "display_data"
    },
    {
     "name": "stdout",
     "output_type": "stream",
     "text": [
      "Num actors: 80, Rate: 1.00, High level expanded: 39.50, Low level expanded: 2441885.40\n"
     ]
    },
    {
     "data": {
      "application/vnd.jupyter.widget-view+json": {
       "model_id": "26cbce3e4c144f25bee533951fff3fec",
       "version_major": 2,
       "version_minor": 0
      },
      "text/plain": [
       "  0%|          | 0/20 [00:00<?, ?it/s]"
      ]
     },
     "metadata": {},
     "output_type": "display_data"
    },
    {
     "name": "stdout",
     "output_type": "stream",
     "text": [
      "Num actors: 90, Rate: 1.00, High level expanded: 61.90, Low level expanded: 4127844.95\n"
     ]
    },
    {
     "data": {
      "application/vnd.jupyter.widget-view+json": {
       "model_id": "ef3d41959d234e5ab150afec9c3f5abc",
       "version_major": 2,
       "version_minor": 0
      },
      "text/plain": [
       "  0%|          | 0/20 [00:00<?, ?it/s]"
      ]
     },
     "metadata": {},
     "output_type": "display_data"
    },
    {
     "name": "stdout",
     "output_type": "stream",
     "text": [
      "Num actors: 100, Rate: 1.00, High level expanded: 53.60, Low level expanded: 3338927.55\n"
     ]
    },
    {
     "data": {
      "text/plain": [
       "[(1.0, 1.3, 25913.05),\n",
       " (1.0, 2.5, 111967.8),\n",
       " (1.0, 4.85, 286961.85),\n",
       " (1.0, 8.7, 528712.55),\n",
       " (1.0, 13.05, 808468.3),\n",
       " (1.0, 18.15, 1118123.6),\n",
       " (1.0, 23.8, 1466630.15),\n",
       " (1.0, 29.25, 1807911.05),\n",
       " (1.0, 39.5, 2441885.4),\n",
       " (1.0, 61.9, 4127844.95),\n",
       " (1.0, 53.6, 3338927.55)]"
      ]
     },
     "execution_count": 30,
     "metadata": {},
     "output_type": "execute_result"
    }
   ],
   "source": [
    "# ECBS den312d w=1.3\n",
    "den_ecbs13 = gen_rate_list('ECBS', 'den312d.map', 'den312d-even-1.scen', den_actors, w=1.3)\n",
    "den_ecbs13"
   ]
  },
  {
   "cell_type": "code",
   "execution_count": 31,
   "id": "70d7df5e",
   "metadata": {},
   "outputs": [
    {
     "data": {
      "application/vnd.jupyter.widget-view+json": {
       "model_id": "ec93520d1896489291c7eb1c6008b3c1",
       "version_major": 2,
       "version_minor": 0
      },
      "text/plain": [
       "  0%|          | 0/20 [00:00<?, ?it/s]"
      ]
     },
     "metadata": {},
     "output_type": "display_data"
    },
    {
     "name": "stdout",
     "output_type": "stream",
     "text": [
      "Num actors: 5, Rate: 1.00, High level expanded: 1.30, Low level expanded: 15548.85\n"
     ]
    },
    {
     "data": {
      "application/vnd.jupyter.widget-view+json": {
       "model_id": "1b5bb3c1006e408ea52db6951565ac8c",
       "version_major": 2,
       "version_minor": 0
      },
      "text/plain": [
       "  0%|          | 0/20 [00:00<?, ?it/s]"
      ]
     },
     "metadata": {},
     "output_type": "display_data"
    },
    {
     "name": "stdout",
     "output_type": "stream",
     "text": [
      "Num actors: 10, Rate: 1.00, High level expanded: 2.55, Low level expanded: 68857.50\n"
     ]
    },
    {
     "data": {
      "application/vnd.jupyter.widget-view+json": {
       "model_id": "bb0669b7d3064fb687c7a1fd89874453",
       "version_major": 2,
       "version_minor": 0
      },
      "text/plain": [
       "  0%|          | 0/20 [00:00<?, ?it/s]"
      ]
     },
     "metadata": {},
     "output_type": "display_data"
    },
    {
     "name": "stdout",
     "output_type": "stream",
     "text": [
      "Num actors: 20, Rate: 1.00, High level expanded: 4.95, Low level expanded: 157298.30\n"
     ]
    },
    {
     "data": {
      "application/vnd.jupyter.widget-view+json": {
       "model_id": "3dbc4f38129a4766a7d51479766d9ae3",
       "version_major": 2,
       "version_minor": 0
      },
      "text/plain": [
       "  0%|          | 0/20 [00:00<?, ?it/s]"
      ]
     },
     "metadata": {},
     "output_type": "display_data"
    },
    {
     "name": "stdout",
     "output_type": "stream",
     "text": [
      "Num actors: 30, Rate: 1.00, High level expanded: 9.10, Low level expanded: 320128.25\n"
     ]
    },
    {
     "data": {
      "application/vnd.jupyter.widget-view+json": {
       "model_id": "461c31a961744478a4478a292f03a6ae",
       "version_major": 2,
       "version_minor": 0
      },
      "text/plain": [
       "  0%|          | 0/20 [00:00<?, ?it/s]"
      ]
     },
     "metadata": {},
     "output_type": "display_data"
    },
    {
     "name": "stdout",
     "output_type": "stream",
     "text": [
      "Num actors: 40, Rate: 1.00, High level expanded: 14.60, Low level expanded: 519549.45\n"
     ]
    },
    {
     "data": {
      "application/vnd.jupyter.widget-view+json": {
       "model_id": "03fc0f4c11824a3da20a7dbe2ad395f2",
       "version_major": 2,
       "version_minor": 0
      },
      "text/plain": [
       "  0%|          | 0/20 [00:00<?, ?it/s]"
      ]
     },
     "metadata": {},
     "output_type": "display_data"
    },
    {
     "name": "stdout",
     "output_type": "stream",
     "text": [
      "Num actors: 50, Rate: 1.00, High level expanded: 23.05, Low level expanded: 829349.20\n"
     ]
    },
    {
     "data": {
      "application/vnd.jupyter.widget-view+json": {
       "model_id": "2a72dab04aa6467e9d372180ee2c991c",
       "version_major": 2,
       "version_minor": 0
      },
      "text/plain": [
       "  0%|          | 0/20 [00:00<?, ?it/s]"
      ]
     },
     "metadata": {},
     "output_type": "display_data"
    },
    {
     "name": "stdout",
     "output_type": "stream",
     "text": [
      "Num actors: 60, Rate: 1.00, High level expanded: 51.65, Low level expanded: 2047588.70\n"
     ]
    },
    {
     "data": {
      "application/vnd.jupyter.widget-view+json": {
       "model_id": "198de17daa214785a68bbedf6213da44",
       "version_major": 2,
       "version_minor": 0
      },
      "text/plain": [
       "  0%|          | 0/20 [00:00<?, ?it/s]"
      ]
     },
     "metadata": {},
     "output_type": "display_data"
    },
    {
     "name": "stdout",
     "output_type": "stream",
     "text": [
      "Num actors: 70, Rate: 1.00, High level expanded: 54.95, Low level expanded: 2167707.60\n"
     ]
    },
    {
     "data": {
      "application/vnd.jupyter.widget-view+json": {
       "model_id": "749403ce45744116b31ce8af4b8b2548",
       "version_major": 2,
       "version_minor": 0
      },
      "text/plain": [
       "  0%|          | 0/20 [00:00<?, ?it/s]"
      ]
     },
     "metadata": {},
     "output_type": "display_data"
    },
    {
     "name": "stdout",
     "output_type": "stream",
     "text": [
      "Num actors: 80, Rate: 0.90, High level expanded: 51.00, Low level expanded: 1951040.17\n"
     ]
    },
    {
     "data": {
      "application/vnd.jupyter.widget-view+json": {
       "model_id": "828b5ff1c2f14becaa573c3c361a08f0",
       "version_major": 2,
       "version_minor": 0
      },
      "text/plain": [
       "  0%|          | 0/20 [00:00<?, ?it/s]"
      ]
     },
     "metadata": {},
     "output_type": "display_data"
    },
    {
     "name": "stdout",
     "output_type": "stream",
     "text": [
      "Num actors: 90, Rate: 0.75, High level expanded: 63.27, Low level expanded: 2378449.47\n"
     ]
    },
    {
     "data": {
      "application/vnd.jupyter.widget-view+json": {
       "model_id": "bd7df28b18d44f7183ea313d9f1c9382",
       "version_major": 2,
       "version_minor": 0
      },
      "text/plain": [
       "  0%|          | 0/20 [00:00<?, ?it/s]"
      ]
     },
     "metadata": {},
     "output_type": "display_data"
    },
    {
     "name": "stdout",
     "output_type": "stream",
     "text": [
      "Num actors: 100, Rate: 0.75, High level expanded: 93.80, Low level expanded: 3583896.60\n"
     ]
    },
    {
     "data": {
      "text/plain": [
       "[(1.0, 1.3, 15548.85),\n",
       " (1.0, 2.55, 68857.5),\n",
       " (1.0, 4.95, 157298.3),\n",
       " (1.0, 9.1, 320128.25),\n",
       " (1.0, 14.6, 519549.45),\n",
       " (1.0, 23.05, 829349.2),\n",
       " (1.0, 51.65, 2047588.7),\n",
       " (1.0, 54.95, 2167707.6),\n",
       " (0.9, 51.0, 1951040.1666666667),\n",
       " (0.75, 63.266666666666666, 2378449.466666667),\n",
       " (0.75, 93.8, 3583896.6)]"
      ]
     },
     "execution_count": 31,
     "metadata": {},
     "output_type": "execute_result"
    }
   ],
   "source": [
    "# ECBS den312d w=1.1\n",
    "den_ecbs11 = gen_rate_list('ECBS', 'den312d.map', 'den312d-even-1.scen', den_actors, w=1.1)\n",
    "den_ecbs11"
   ]
  }
 ],
 "metadata": {
  "kernelspec": {
   "display_name": "Python 3",
   "language": "python",
   "name": "python3"
  },
  "language_info": {
   "codemirror_mode": {
    "name": "ipython",
    "version": 3
   },
   "file_extension": ".py",
   "mimetype": "text/x-python",
   "name": "python",
   "nbconvert_exporter": "python",
   "pygments_lexer": "ipython3",
   "version": "3.8.8"
  }
 },
 "nbformat": 4,
 "nbformat_minor": 5
}
