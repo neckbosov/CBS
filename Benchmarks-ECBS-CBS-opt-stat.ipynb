{
 "cells": [
  {
   "cell_type": "markdown",
   "id": "8afff62f",
   "metadata": {},
   "source": [
    "# В этом ноутбуке сравниваем усредненные стоимости путей для CBS и субоптимального ECBS"
   ]
  },
  {
   "cell_type": "code",
   "execution_count": 1,
   "id": "861f7b7c",
   "metadata": {},
   "outputs": [],
   "source": [
    "from stats import run_algo\n",
    "from typing import List\n",
    "from tqdm.notebook import tqdm\n",
    "import matplotlib\n",
    "import numpy as np\n",
    "import time\n",
    "from matplotlib import pyplot as plt\n",
    "from matplotlib_inline.backend_inline import set_matplotlib_formats\n",
    "%matplotlib inline\n",
    "set_matplotlib_formats('svg')"
   ]
  },
  {
   "cell_type": "code",
   "execution_count": 2,
   "id": "3501cba0",
   "metadata": {},
   "outputs": [],
   "source": [
    "import os\n",
    "filename = 'result_ecbs_cbs_comp.txt'\n",
    "\n",
    "from collections import defaultdict\n",
    "def parse_path_file(path_file_content):\n",
    "    agents_path = defaultdict(list)\n",
    "    agent = None\n",
    "    lines = path_file_content.split('\\n')[1:]\n",
    "    for line in lines:\n",
    "        if line == '':\n",
    "            break\n",
    "        nums = list(map(int, line.split(' ')))\n",
    "        if len(nums) == 1:\n",
    "            agent = int(nums[0])\n",
    "        else:\n",
    "            x, y, time = nums\n",
    "            agents_path[agent].append((x, y, time))\n",
    "    return agents_path\n",
    "\n",
    "def read_paths(filename=filename):\n",
    "    with open(filename, 'r') as path_file:\n",
    "        path_file_content = path_file.read()\n",
    "        agents_path = parse_path_file(path_file_content)\n",
    "    return dict(agents_path)\n",
    "\n",
    "def count_sol_cost(agents_path):\n",
    "    cost = 0\n",
    "    for path in agents_path.values():\n",
    "        cost += path[-1][2]\n",
    "    return cost\n",
    "\n",
    "def run(alg_name, map_name, scen_name, num_agents, num_repetitions, w=None, timeout=2*60):\n",
    "    costs = []\n",
    "    times = []\n",
    "    count_done = 0\n",
    "    for i in tqdm(range(num_repetitions)):\n",
    "        start = time.time()\n",
    "        done = run_algo(alg=alg_name, dest_file=filename,\n",
    "                        map_path=os.path.join(os.curdir, 'data', 'maps', 'mapf', map_name),\n",
    "                        scen_path=os.path.join(os.curdir, 'data', 'scens', 'mapf', scen_name),\n",
    "                        tasks_count=num_agents,\n",
    "                        test_num=i, w=w, timeout=timeout)\n",
    "        times.append(time.time() - start)\n",
    "        if done:\n",
    "            costs.append(count_sol_cost(read_paths()))\n",
    "            count_done += int(done)\n",
    "        else:\n",
    "            costs.append(None)\n",
    "    if count_done == 0:\n",
    "        return (0, 0, 0)\n",
    "    return count_done / num_repetitions, costs, times"
   ]
  },
  {
   "cell_type": "code",
   "execution_count": 3,
   "id": "cb69a1bd",
   "metadata": {},
   "outputs": [],
   "source": [
    "def gen_cmp_list(map_name:str, scen_name:str, actors_array:List[int], N=30, w=None):\n",
    "    rate_list = []\n",
    "    for num_actors in actors_array:\n",
    "        rate, costs, times = run('ECBS', map_name, scen_name, num_actors, N, w)\n",
    "        rate_, costs_, times_ = run('CBS', map_name, scen_name, num_actors, N)\n",
    "        avg_cost, avg_cost_ = 0, 0\n",
    "        avg_t, avg_t_ = 0, 0\n",
    "        done = 0\n",
    "        for i, (cost, cost_) in enumerate(zip(costs, costs_)):\n",
    "            if cost is not None and cost_ is not None:\n",
    "                avg_cost += cost\n",
    "                avg_cost_ += cost_\n",
    "                avg_t += times[i]\n",
    "                avg_t_ += times_[i]\n",
    "                done += 1\n",
    "        avg_cost /= done\n",
    "        avg_cost_ /= done\n",
    "        avg_t /= done\n",
    "        avg_t_ /= done\n",
    "\n",
    "        print(f'ECBS - Num actors: {num_actors}, Rate: {rate:.2f}, avg cost: {avg_cost:.2f}, time: {avg_t: .2f}')\n",
    "        print(f'CBS - Num actors: {num_actors}, Rate: {rate_:.2f}, avg cost: {avg_cost_:.2f}, time: {avg_t_: .2f}')\n",
    "        print(f'Passed in common: {done / len(costs)}, diff: {avg_cost / avg_cost_: .4f}')\n",
    "\n",
    "        rate_list.append((rate, rate_, avg_cost, avg_cost_, avg_t, avg_t_))\n",
    "        if rate <= 0.1:\n",
    "            break\n",
    "    while len(rate_list) < len (actors_array):\n",
    "        rate_list.append((0.0, 0, 0))\n",
    "    \n",
    "    return rate_list"
   ]
  },
  {
   "cell_type": "code",
   "execution_count": 4,
   "id": "390a396e",
   "metadata": {},
   "outputs": [],
   "source": [
    "rand_actors = [5, 7, 10, 13, 16, 20, 23, 26]"
   ]
  },
  {
   "cell_type": "code",
   "execution_count": 5,
   "id": "c1e7c523",
   "metadata": {},
   "outputs": [
    {
     "data": {
      "application/vnd.jupyter.widget-view+json": {
       "model_id": "dfc9d0f7cd2d46d2b9189f5a372c7066",
       "version_major": 2,
       "version_minor": 0
      },
      "text/plain": [
       "  0%|          | 0/30 [00:00<?, ?it/s]"
      ]
     },
     "metadata": {},
     "output_type": "display_data"
    },
    {
     "data": {
      "application/vnd.jupyter.widget-view+json": {
       "model_id": "270c989a84bb4e2c9e25519076846df0",
       "version_major": 2,
       "version_minor": 0
      },
      "text/plain": [
       "  0%|          | 0/30 [00:00<?, ?it/s]"
      ]
     },
     "metadata": {},
     "output_type": "display_data"
    },
    {
     "name": "stdout",
     "output_type": "stream",
     "text": [
      "ECBS - Num actors: 5, Rate: 1.00, avg cost: 105.63, time:  0.01\n",
      "CBS - Num actors: 5, Rate: 1.00, avg cost: 105.63, time:  0.06\n",
      "Passed in common: 1.0, diff:  1.0000\n"
     ]
    },
    {
     "data": {
      "application/vnd.jupyter.widget-view+json": {
       "model_id": "0a3d80af2e32493b80e21cf301f0b485",
       "version_major": 2,
       "version_minor": 0
      },
      "text/plain": [
       "  0%|          | 0/30 [00:00<?, ?it/s]"
      ]
     },
     "metadata": {},
     "output_type": "display_data"
    },
    {
     "data": {
      "application/vnd.jupyter.widget-view+json": {
       "model_id": "5336555e82c14c9c92b105ccf06fc319",
       "version_major": 2,
       "version_minor": 0
      },
      "text/plain": [
       "  0%|          | 0/30 [00:00<?, ?it/s]"
      ]
     },
     "metadata": {},
     "output_type": "display_data"
    },
    {
     "name": "stdout",
     "output_type": "stream",
     "text": [
      "ECBS - Num actors: 7, Rate: 1.00, avg cost: 148.90, time:  0.02\n",
      "CBS - Num actors: 7, Rate: 1.00, avg cost: 148.80, time:  0.06\n",
      "Passed in common: 1.0, diff:  1.0007\n"
     ]
    },
    {
     "data": {
      "application/vnd.jupyter.widget-view+json": {
       "model_id": "c823a61049a340c984207d64de6ebbfd",
       "version_major": 2,
       "version_minor": 0
      },
      "text/plain": [
       "  0%|          | 0/30 [00:00<?, ?it/s]"
      ]
     },
     "metadata": {},
     "output_type": "display_data"
    },
    {
     "data": {
      "application/vnd.jupyter.widget-view+json": {
       "model_id": "94c26821bd264e9b9505e747bcf29694",
       "version_major": 2,
       "version_minor": 0
      },
      "text/plain": [
       "  0%|          | 0/30 [00:00<?, ?it/s]"
      ]
     },
     "metadata": {},
     "output_type": "display_data"
    },
    {
     "name": "stdout",
     "output_type": "stream",
     "text": [
      "ECBS - Num actors: 10, Rate: 1.00, avg cost: 213.73, time:  0.03\n",
      "CBS - Num actors: 10, Rate: 1.00, avg cost: 213.60, time:  0.10\n",
      "Passed in common: 1.0, diff:  1.0006\n"
     ]
    },
    {
     "data": {
      "application/vnd.jupyter.widget-view+json": {
       "model_id": "4cbbb28d04254a659774e6fbe2ed8e77",
       "version_major": 2,
       "version_minor": 0
      },
      "text/plain": [
       "  0%|          | 0/30 [00:00<?, ?it/s]"
      ]
     },
     "metadata": {},
     "output_type": "display_data"
    },
    {
     "data": {
      "application/vnd.jupyter.widget-view+json": {
       "model_id": "4648a77fc38e4ed39bca07b76ff3e93b",
       "version_major": 2,
       "version_minor": 0
      },
      "text/plain": [
       "  0%|          | 0/30 [00:00<?, ?it/s]"
      ]
     },
     "metadata": {},
     "output_type": "display_data"
    },
    {
     "name": "stdout",
     "output_type": "stream",
     "text": [
      "ECBS - Num actors: 13, Rate: 1.00, avg cost: 272.67, time:  0.03\n",
      "CBS - Num actors: 13, Rate: 1.00, avg cost: 272.43, time:  0.18\n",
      "Passed in common: 1.0, diff:  1.0009\n"
     ]
    },
    {
     "data": {
      "application/vnd.jupyter.widget-view+json": {
       "model_id": "8062d76d74984b739e6f9a1a43e6913e",
       "version_major": 2,
       "version_minor": 0
      },
      "text/plain": [
       "  0%|          | 0/30 [00:00<?, ?it/s]"
      ]
     },
     "metadata": {},
     "output_type": "display_data"
    },
    {
     "data": {
      "application/vnd.jupyter.widget-view+json": {
       "model_id": "e9d83cc134fd4022b9128656f30808ea",
       "version_major": 2,
       "version_minor": 0
      },
      "text/plain": [
       "  0%|          | 0/30 [00:00<?, ?it/s]"
      ]
     },
     "metadata": {},
     "output_type": "display_data"
    },
    {
     "name": "stdout",
     "output_type": "stream",
     "text": [
      "ECBS - Num actors: 16, Rate: 1.00, avg cost: 336.97, time:  0.05\n",
      "CBS - Num actors: 16, Rate: 1.00, avg cost: 336.67, time:  0.19\n",
      "Passed in common: 1.0, diff:  1.0009\n"
     ]
    },
    {
     "data": {
      "application/vnd.jupyter.widget-view+json": {
       "model_id": "dc2b95f07fa24405b27e5d48663d522e",
       "version_major": 2,
       "version_minor": 0
      },
      "text/plain": [
       "  0%|          | 0/30 [00:00<?, ?it/s]"
      ]
     },
     "metadata": {},
     "output_type": "display_data"
    },
    {
     "data": {
      "application/vnd.jupyter.widget-view+json": {
       "model_id": "0784f48df00746ef864b8d345870c07b",
       "version_major": 2,
       "version_minor": 0
      },
      "text/plain": [
       "  0%|          | 0/30 [00:00<?, ?it/s]"
      ]
     },
     "metadata": {},
     "output_type": "display_data"
    },
    {
     "name": "stdout",
     "output_type": "stream",
     "text": [
      "ECBS - Num actors: 20, Rate: 1.00, avg cost: 421.23, time:  0.09\n",
      "CBS - Num actors: 20, Rate: 1.00, avg cost: 420.87, time:  0.33\n",
      "Passed in common: 1.0, diff:  1.0009\n"
     ]
    },
    {
     "data": {
      "application/vnd.jupyter.widget-view+json": {
       "model_id": "f5d5e7508c454108b347cbbc0d778357",
       "version_major": 2,
       "version_minor": 0
      },
      "text/plain": [
       "  0%|          | 0/30 [00:00<?, ?it/s]"
      ]
     },
     "metadata": {},
     "output_type": "display_data"
    },
    {
     "data": {
      "application/vnd.jupyter.widget-view+json": {
       "model_id": "96f81021fb7e41988560625fa84b24f6",
       "version_major": 2,
       "version_minor": 0
      },
      "text/plain": [
       "  0%|          | 0/30 [00:00<?, ?it/s]"
      ]
     },
     "metadata": {},
     "output_type": "display_data"
    },
    {
     "name": "stdout",
     "output_type": "stream",
     "text": [
      "ECBS - Num actors: 23, Rate: 1.00, avg cost: 480.97, time:  0.09\n",
      "CBS - Num actors: 23, Rate: 1.00, avg cost: 480.50, time:  0.44\n",
      "Passed in common: 1.0, diff:  1.0010\n"
     ]
    },
    {
     "data": {
      "application/vnd.jupyter.widget-view+json": {
       "model_id": "4d2360e701a64766a983b8b2dbfec1c3",
       "version_major": 2,
       "version_minor": 0
      },
      "text/plain": [
       "  0%|          | 0/30 [00:00<?, ?it/s]"
      ]
     },
     "metadata": {},
     "output_type": "display_data"
    },
    {
     "data": {
      "application/vnd.jupyter.widget-view+json": {
       "model_id": "834fd029df134b089d24d8ad4e0dbde3",
       "version_major": 2,
       "version_minor": 0
      },
      "text/plain": [
       "  0%|          | 0/30 [00:00<?, ?it/s]"
      ]
     },
     "metadata": {},
     "output_type": "display_data"
    },
    {
     "name": "stdout",
     "output_type": "stream",
     "text": [
      "ECBS - Num actors: 26, Rate: 1.00, avg cost: 540.29, time:  0.10\n",
      "CBS - Num actors: 26, Rate: 0.93, avg cost: 539.71, time:  1.38\n",
      "Passed in common: 0.9333333333333333, diff:  1.0011\n"
     ]
    },
    {
     "data": {
      "text/plain": [
       "[(1.0,\n",
       "  1.0,\n",
       "  105.63333333333334,\n",
       "  105.63333333333334,\n",
       "  0.013932538032531739,\n",
       "  0.056404741605122884),\n",
       " (1.0, 1.0, 148.9, 148.8, 0.019509402910868327, 0.059574826558430986),\n",
       " (1.0,\n",
       "  1.0,\n",
       "  213.73333333333332,\n",
       "  213.6,\n",
       "  0.028514711062113444,\n",
       "  0.09523428281148275),\n",
       " (1.0,\n",
       "  1.0,\n",
       "  272.6666666666667,\n",
       "  272.43333333333334,\n",
       "  0.03243541717529297,\n",
       "  0.17685987949371337),\n",
       " (1.0,\n",
       "  1.0,\n",
       "  336.96666666666664,\n",
       "  336.6666666666667,\n",
       "  0.049280953407287595,\n",
       "  0.19191856384277345),\n",
       " (1.0,\n",
       "  1.0,\n",
       "  421.23333333333335,\n",
       "  420.8666666666667,\n",
       "  0.08819425900777181,\n",
       "  0.3257248322168986),\n",
       " (1.0, 1.0, 480.96666666666664, 480.5, 0.08602189222971598, 0.444214924176534),\n",
       " (1.0,\n",
       "  0.9333333333333333,\n",
       "  540.2857142857143,\n",
       "  539.7142857142857,\n",
       "  0.09969860315322876,\n",
       "  1.381485947540828)]"
      ]
     },
     "execution_count": 5,
     "metadata": {},
     "output_type": "execute_result"
    }
   ],
   "source": [
    "# CBS vs ECBS 1.5 random-32x32x10\n",
    "rand = gen_cmp_list('random-32-32-10.map', 'random-32-32-10-even-1.scen', rand_actors, w=1.5)\n",
    "rand"
   ]
  },
  {
   "cell_type": "code",
   "execution_count": 6,
   "id": "86725411",
   "metadata": {},
   "outputs": [
    {
     "data": {
      "application/vnd.jupyter.widget-view+json": {
       "model_id": "23cd3831290b40aeab040ba846b7087b",
       "version_major": 2,
       "version_minor": 0
      },
      "text/plain": [
       "  0%|          | 0/30 [00:00<?, ?it/s]"
      ]
     },
     "metadata": {},
     "output_type": "display_data"
    },
    {
     "data": {
      "application/vnd.jupyter.widget-view+json": {
       "model_id": "96a485292b4c406184fc9b10f8a086c8",
       "version_major": 2,
       "version_minor": 0
      },
      "text/plain": [
       "  0%|          | 0/30 [00:00<?, ?it/s]"
      ]
     },
     "metadata": {},
     "output_type": "display_data"
    },
    {
     "name": "stdout",
     "output_type": "stream",
     "text": [
      "ECBS - Num actors: 5, Rate: 1.00, avg cost: 105.63, time:  0.01\n",
      "CBS - Num actors: 5, Rate: 1.00, avg cost: 105.63, time:  0.06\n",
      "Passed in common: 1.0, diff:  1.0000\n"
     ]
    },
    {
     "data": {
      "application/vnd.jupyter.widget-view+json": {
       "model_id": "f3045e9f61244243a109ac02bcfbf164",
       "version_major": 2,
       "version_minor": 0
      },
      "text/plain": [
       "  0%|          | 0/30 [00:00<?, ?it/s]"
      ]
     },
     "metadata": {},
     "output_type": "display_data"
    },
    {
     "data": {
      "application/vnd.jupyter.widget-view+json": {
       "model_id": "95989f82eb494727bb350a831ba3edfe",
       "version_major": 2,
       "version_minor": 0
      },
      "text/plain": [
       "  0%|          | 0/30 [00:00<?, ?it/s]"
      ]
     },
     "metadata": {},
     "output_type": "display_data"
    },
    {
     "name": "stdout",
     "output_type": "stream",
     "text": [
      "ECBS - Num actors: 7, Rate: 1.00, avg cost: 148.90, time:  0.02\n",
      "CBS - Num actors: 7, Rate: 1.00, avg cost: 148.80, time:  0.06\n",
      "Passed in common: 1.0, diff:  1.0007\n"
     ]
    },
    {
     "data": {
      "application/vnd.jupyter.widget-view+json": {
       "model_id": "aea5e6e4255a4989916898a498453e35",
       "version_major": 2,
       "version_minor": 0
      },
      "text/plain": [
       "  0%|          | 0/30 [00:00<?, ?it/s]"
      ]
     },
     "metadata": {},
     "output_type": "display_data"
    },
    {
     "data": {
      "application/vnd.jupyter.widget-view+json": {
       "model_id": "ff07d87cb477400dbfed5aead5763a62",
       "version_major": 2,
       "version_minor": 0
      },
      "text/plain": [
       "  0%|          | 0/30 [00:00<?, ?it/s]"
      ]
     },
     "metadata": {},
     "output_type": "display_data"
    },
    {
     "name": "stdout",
     "output_type": "stream",
     "text": [
      "ECBS - Num actors: 10, Rate: 1.00, avg cost: 213.73, time:  0.02\n",
      "CBS - Num actors: 10, Rate: 1.00, avg cost: 213.60, time:  0.10\n",
      "Passed in common: 1.0, diff:  1.0006\n"
     ]
    },
    {
     "data": {
      "application/vnd.jupyter.widget-view+json": {
       "model_id": "b00ab3db296e49acbbdb433ca7c7d790",
       "version_major": 2,
       "version_minor": 0
      },
      "text/plain": [
       "  0%|          | 0/30 [00:00<?, ?it/s]"
      ]
     },
     "metadata": {},
     "output_type": "display_data"
    },
    {
     "data": {
      "application/vnd.jupyter.widget-view+json": {
       "model_id": "53afe2fd8b824dc5a68385ff9b47d62f",
       "version_major": 2,
       "version_minor": 0
      },
      "text/plain": [
       "  0%|          | 0/30 [00:00<?, ?it/s]"
      ]
     },
     "metadata": {},
     "output_type": "display_data"
    },
    {
     "name": "stdout",
     "output_type": "stream",
     "text": [
      "ECBS - Num actors: 13, Rate: 1.00, avg cost: 272.67, time:  0.03\n",
      "CBS - Num actors: 13, Rate: 1.00, avg cost: 272.43, time:  0.18\n",
      "Passed in common: 1.0, diff:  1.0009\n"
     ]
    },
    {
     "data": {
      "application/vnd.jupyter.widget-view+json": {
       "model_id": "0d3f5444ba854701a285174f978230ce",
       "version_major": 2,
       "version_minor": 0
      },
      "text/plain": [
       "  0%|          | 0/30 [00:00<?, ?it/s]"
      ]
     },
     "metadata": {},
     "output_type": "display_data"
    },
    {
     "data": {
      "application/vnd.jupyter.widget-view+json": {
       "model_id": "dd106c309238433a8e4ad6d850b423dc",
       "version_major": 2,
       "version_minor": 0
      },
      "text/plain": [
       "  0%|          | 0/30 [00:00<?, ?it/s]"
      ]
     },
     "metadata": {},
     "output_type": "display_data"
    },
    {
     "name": "stdout",
     "output_type": "stream",
     "text": [
      "ECBS - Num actors: 16, Rate: 1.00, avg cost: 336.97, time:  0.04\n",
      "CBS - Num actors: 16, Rate: 1.00, avg cost: 336.67, time:  0.20\n",
      "Passed in common: 1.0, diff:  1.0009\n"
     ]
    },
    {
     "data": {
      "application/vnd.jupyter.widget-view+json": {
       "model_id": "2928fd4979ca44c8a1bc5a9ffc54df64",
       "version_major": 2,
       "version_minor": 0
      },
      "text/plain": [
       "  0%|          | 0/30 [00:00<?, ?it/s]"
      ]
     },
     "metadata": {},
     "output_type": "display_data"
    },
    {
     "data": {
      "application/vnd.jupyter.widget-view+json": {
       "model_id": "4c89ce3a2b004150920e3fa6b23529d7",
       "version_major": 2,
       "version_minor": 0
      },
      "text/plain": [
       "  0%|          | 0/30 [00:00<?, ?it/s]"
      ]
     },
     "metadata": {},
     "output_type": "display_data"
    },
    {
     "name": "stdout",
     "output_type": "stream",
     "text": [
      "ECBS - Num actors: 20, Rate: 1.00, avg cost: 421.23, time:  0.07\n",
      "CBS - Num actors: 20, Rate: 1.00, avg cost: 420.87, time:  0.33\n",
      "Passed in common: 1.0, diff:  1.0009\n"
     ]
    },
    {
     "data": {
      "application/vnd.jupyter.widget-view+json": {
       "model_id": "cb3c0e2967fb4341a68c079c042fc216",
       "version_major": 2,
       "version_minor": 0
      },
      "text/plain": [
       "  0%|          | 0/30 [00:00<?, ?it/s]"
      ]
     },
     "metadata": {},
     "output_type": "display_data"
    },
    {
     "data": {
      "application/vnd.jupyter.widget-view+json": {
       "model_id": "aa4b9f445e8b4f3791ce8621f8cf2746",
       "version_major": 2,
       "version_minor": 0
      },
      "text/plain": [
       "  0%|          | 0/30 [00:00<?, ?it/s]"
      ]
     },
     "metadata": {},
     "output_type": "display_data"
    },
    {
     "name": "stdout",
     "output_type": "stream",
     "text": [
      "ECBS - Num actors: 23, Rate: 1.00, avg cost: 480.97, time:  0.07\n",
      "CBS - Num actors: 23, Rate: 1.00, avg cost: 480.50, time:  0.44\n",
      "Passed in common: 1.0, diff:  1.0010\n"
     ]
    },
    {
     "data": {
      "application/vnd.jupyter.widget-view+json": {
       "model_id": "58390cb0a86d4951a666044386299c32",
       "version_major": 2,
       "version_minor": 0
      },
      "text/plain": [
       "  0%|          | 0/30 [00:00<?, ?it/s]"
      ]
     },
     "metadata": {},
     "output_type": "display_data"
    },
    {
     "data": {
      "application/vnd.jupyter.widget-view+json": {
       "model_id": "8d583c80fb6641f6a9976021601af812",
       "version_major": 2,
       "version_minor": 0
      },
      "text/plain": [
       "  0%|          | 0/30 [00:00<?, ?it/s]"
      ]
     },
     "metadata": {},
     "output_type": "display_data"
    },
    {
     "name": "stdout",
     "output_type": "stream",
     "text": [
      "ECBS - Num actors: 26, Rate: 1.00, avg cost: 540.29, time:  0.07\n",
      "CBS - Num actors: 26, Rate: 0.93, avg cost: 539.71, time:  1.40\n",
      "Passed in common: 0.9333333333333333, diff:  1.0011\n"
     ]
    },
    {
     "data": {
      "text/plain": [
       "[(1.0,\n",
       "  1.0,\n",
       "  105.63333333333334,\n",
       "  105.63333333333334,\n",
       "  0.01318217913309733,\n",
       "  0.05801082452138265),\n",
       " (1.0, 1.0, 148.9, 148.8, 0.017759339014689127, 0.060416158040364584),\n",
       " (1.0,\n",
       "  1.0,\n",
       "  213.73333333333332,\n",
       "  213.6,\n",
       "  0.024018041292826333,\n",
       "  0.09910641511281332),\n",
       " (1.0,\n",
       "  1.0,\n",
       "  272.6666666666667,\n",
       "  272.43333333333334,\n",
       "  0.027643998463948567,\n",
       "  0.17955415248870848),\n",
       " (1.0,\n",
       "  1.0,\n",
       "  336.96666666666664,\n",
       "  336.6666666666667,\n",
       "  0.041554562250773114,\n",
       "  0.19999878406524657),\n",
       " (1.0,\n",
       "  1.0,\n",
       "  421.23333333333335,\n",
       "  420.8666666666667,\n",
       "  0.06610753536224365,\n",
       "  0.32759498755137123),\n",
       " (1.0,\n",
       "  1.0,\n",
       "  480.96666666666664,\n",
       "  480.5,\n",
       "  0.06721206506093343,\n",
       "  0.44310945669809976),\n",
       " (1.0,\n",
       "  0.9333333333333333,\n",
       "  540.2857142857143,\n",
       "  539.7142857142857,\n",
       "  0.07265985012054443,\n",
       "  1.3955302323613847)]"
      ]
     },
     "execution_count": 6,
     "metadata": {},
     "output_type": "execute_result"
    }
   ],
   "source": [
    "# CBS vs ECBS 1.3 random-32x32x10\n",
    "rand_2 = gen_cmp_list('random-32-32-10.map', 'random-32-32-10-even-1.scen', rand_actors, w=1.3)\n",
    "rand_2"
   ]
  },
  {
   "cell_type": "code",
   "execution_count": 7,
   "id": "6d88d67c",
   "metadata": {},
   "outputs": [
    {
     "data": {
      "application/vnd.jupyter.widget-view+json": {
       "model_id": "cd6da502675a4f428feaf2fa68ba744c",
       "version_major": 2,
       "version_minor": 0
      },
      "text/plain": [
       "  0%|          | 0/30 [00:00<?, ?it/s]"
      ]
     },
     "metadata": {},
     "output_type": "display_data"
    },
    {
     "data": {
      "application/vnd.jupyter.widget-view+json": {
       "model_id": "a3d1e36f1b2f4395af6c2c877b8c75e2",
       "version_major": 2,
       "version_minor": 0
      },
      "text/plain": [
       "  0%|          | 0/30 [00:00<?, ?it/s]"
      ]
     },
     "metadata": {},
     "output_type": "display_data"
    },
    {
     "name": "stdout",
     "output_type": "stream",
     "text": [
      "ECBS - Num actors: 5, Rate: 1.00, avg cost: 105.63, time:  0.01\n",
      "CBS - Num actors: 5, Rate: 1.00, avg cost: 105.63, time:  0.06\n",
      "Passed in common: 1.0, diff:  1.0000\n"
     ]
    },
    {
     "data": {
      "application/vnd.jupyter.widget-view+json": {
       "model_id": "4d0788febba74da09c689f6f5f4e599f",
       "version_major": 2,
       "version_minor": 0
      },
      "text/plain": [
       "  0%|          | 0/30 [00:00<?, ?it/s]"
      ]
     },
     "metadata": {},
     "output_type": "display_data"
    },
    {
     "data": {
      "application/vnd.jupyter.widget-view+json": {
       "model_id": "7ecbc5498f014b5497708d2b520cc2ce",
       "version_major": 2,
       "version_minor": 0
      },
      "text/plain": [
       "  0%|          | 0/30 [00:00<?, ?it/s]"
      ]
     },
     "metadata": {},
     "output_type": "display_data"
    },
    {
     "name": "stdout",
     "output_type": "stream",
     "text": [
      "ECBS - Num actors: 7, Rate: 1.00, avg cost: 148.87, time:  0.02\n",
      "CBS - Num actors: 7, Rate: 1.00, avg cost: 148.80, time:  0.06\n",
      "Passed in common: 1.0, diff:  1.0004\n"
     ]
    },
    {
     "data": {
      "application/vnd.jupyter.widget-view+json": {
       "model_id": "fb186d600a3e4845a4248fb4c68e8805",
       "version_major": 2,
       "version_minor": 0
      },
      "text/plain": [
       "  0%|          | 0/30 [00:00<?, ?it/s]"
      ]
     },
     "metadata": {},
     "output_type": "display_data"
    },
    {
     "data": {
      "application/vnd.jupyter.widget-view+json": {
       "model_id": "881631f6b37c4f14ab92530b80b71a43",
       "version_major": 2,
       "version_minor": 0
      },
      "text/plain": [
       "  0%|          | 0/30 [00:00<?, ?it/s]"
      ]
     },
     "metadata": {},
     "output_type": "display_data"
    },
    {
     "name": "stdout",
     "output_type": "stream",
     "text": [
      "ECBS - Num actors: 10, Rate: 1.00, avg cost: 213.70, time:  0.02\n",
      "CBS - Num actors: 10, Rate: 1.00, avg cost: 213.60, time:  0.10\n",
      "Passed in common: 1.0, diff:  1.0005\n"
     ]
    },
    {
     "data": {
      "application/vnd.jupyter.widget-view+json": {
       "model_id": "4b3284b8c2a347cb9858ba5b6b579500",
       "version_major": 2,
       "version_minor": 0
      },
      "text/plain": [
       "  0%|          | 0/30 [00:00<?, ?it/s]"
      ]
     },
     "metadata": {},
     "output_type": "display_data"
    },
    {
     "data": {
      "application/vnd.jupyter.widget-view+json": {
       "model_id": "4f0963236bf84949879bb21cbdde2e93",
       "version_major": 2,
       "version_minor": 0
      },
      "text/plain": [
       "  0%|          | 0/30 [00:00<?, ?it/s]"
      ]
     },
     "metadata": {},
     "output_type": "display_data"
    },
    {
     "name": "stdout",
     "output_type": "stream",
     "text": [
      "ECBS - Num actors: 13, Rate: 1.00, avg cost: 272.60, time:  0.02\n",
      "CBS - Num actors: 13, Rate: 1.00, avg cost: 272.43, time:  0.18\n",
      "Passed in common: 1.0, diff:  1.0006\n"
     ]
    },
    {
     "data": {
      "application/vnd.jupyter.widget-view+json": {
       "model_id": "7128962f7c654a678f9ad34aa6c7a47c",
       "version_major": 2,
       "version_minor": 0
      },
      "text/plain": [
       "  0%|          | 0/30 [00:00<?, ?it/s]"
      ]
     },
     "metadata": {},
     "output_type": "display_data"
    },
    {
     "data": {
      "application/vnd.jupyter.widget-view+json": {
       "model_id": "c508438fce3a477aa011f9f2ed9b42f5",
       "version_major": 2,
       "version_minor": 0
      },
      "text/plain": [
       "  0%|          | 0/30 [00:00<?, ?it/s]"
      ]
     },
     "metadata": {},
     "output_type": "display_data"
    },
    {
     "name": "stdout",
     "output_type": "stream",
     "text": [
      "ECBS - Num actors: 16, Rate: 1.00, avg cost: 336.87, time:  0.03\n",
      "CBS - Num actors: 16, Rate: 1.00, avg cost: 336.67, time:  0.19\n",
      "Passed in common: 1.0, diff:  1.0006\n"
     ]
    },
    {
     "data": {
      "application/vnd.jupyter.widget-view+json": {
       "model_id": "be442ee4e7d049a586f38b5b874ad9c7",
       "version_major": 2,
       "version_minor": 0
      },
      "text/plain": [
       "  0%|          | 0/30 [00:00<?, ?it/s]"
      ]
     },
     "metadata": {},
     "output_type": "display_data"
    },
    {
     "data": {
      "application/vnd.jupyter.widget-view+json": {
       "model_id": "4abb746a5eec4b98aaadecbeee3325cb",
       "version_major": 2,
       "version_minor": 0
      },
      "text/plain": [
       "  0%|          | 0/30 [00:00<?, ?it/s]"
      ]
     },
     "metadata": {},
     "output_type": "display_data"
    },
    {
     "name": "stdout",
     "output_type": "stream",
     "text": [
      "ECBS - Num actors: 20, Rate: 1.00, avg cost: 421.13, time:  0.04\n",
      "CBS - Num actors: 20, Rate: 1.00, avg cost: 420.87, time:  0.33\n",
      "Passed in common: 1.0, diff:  1.0006\n"
     ]
    },
    {
     "data": {
      "application/vnd.jupyter.widget-view+json": {
       "model_id": "6181cbc21de3417d8a2d5062caf7f829",
       "version_major": 2,
       "version_minor": 0
      },
      "text/plain": [
       "  0%|          | 0/30 [00:00<?, ?it/s]"
      ]
     },
     "metadata": {},
     "output_type": "display_data"
    },
    {
     "data": {
      "application/vnd.jupyter.widget-view+json": {
       "model_id": "4b7b57a409174c969a1ca488b530bf57",
       "version_major": 2,
       "version_minor": 0
      },
      "text/plain": [
       "  0%|          | 0/30 [00:00<?, ?it/s]"
      ]
     },
     "metadata": {},
     "output_type": "display_data"
    },
    {
     "name": "stdout",
     "output_type": "stream",
     "text": [
      "ECBS - Num actors: 23, Rate: 1.00, avg cost: 480.93, time:  0.04\n",
      "CBS - Num actors: 23, Rate: 1.00, avg cost: 480.50, time:  0.44\n",
      "Passed in common: 1.0, diff:  1.0009\n"
     ]
    },
    {
     "data": {
      "application/vnd.jupyter.widget-view+json": {
       "model_id": "dfdb43d63346489aa8f1038a0ff46e36",
       "version_major": 2,
       "version_minor": 0
      },
      "text/plain": [
       "  0%|          | 0/30 [00:00<?, ?it/s]"
      ]
     },
     "metadata": {},
     "output_type": "display_data"
    },
    {
     "data": {
      "application/vnd.jupyter.widget-view+json": {
       "model_id": "97e020a2e9af4b6a9317d711082f1ae2",
       "version_major": 2,
       "version_minor": 0
      },
      "text/plain": [
       "  0%|          | 0/30 [00:00<?, ?it/s]"
      ]
     },
     "metadata": {},
     "output_type": "display_data"
    },
    {
     "name": "stdout",
     "output_type": "stream",
     "text": [
      "ECBS - Num actors: 26, Rate: 1.00, avg cost: 540.25, time:  0.05\n",
      "CBS - Num actors: 26, Rate: 0.93, avg cost: 539.71, time:  1.39\n",
      "Passed in common: 0.9333333333333333, diff:  1.0010\n"
     ]
    },
    {
     "data": {
      "text/plain": [
       "[(1.0,\n",
       "  1.0,\n",
       "  105.63333333333334,\n",
       "  105.63333333333334,\n",
       "  0.012877957026163737,\n",
       "  0.05874014695485433),\n",
       " (1.0,\n",
       "  1.0,\n",
       "  148.86666666666667,\n",
       "  148.8,\n",
       "  0.015346988042195638,\n",
       "  0.061090914408365886),\n",
       " (1.0, 1.0, 213.7, 213.6, 0.0168198823928833, 0.0992128849029541),\n",
       " (1.0,\n",
       "  1.0,\n",
       "  272.6,\n",
       "  272.43333333333334,\n",
       "  0.023778255780537924,\n",
       "  0.17582319577534994),\n",
       " (1.0,\n",
       "  1.0,\n",
       "  336.8666666666667,\n",
       "  336.6666666666667,\n",
       "  0.030270059903462727,\n",
       "  0.19239864349365235),\n",
       " (1.0,\n",
       "  1.0,\n",
       "  421.1333333333333,\n",
       "  420.8666666666667,\n",
       "  0.03974219163258871,\n",
       "  0.3273632844289144),\n",
       " (1.0,\n",
       "  1.0,\n",
       "  480.93333333333334,\n",
       "  480.5,\n",
       "  0.04385056495666504,\n",
       "  0.4357583443323771),\n",
       " (1.0,\n",
       "  0.9333333333333333,\n",
       "  540.25,\n",
       "  539.7142857142857,\n",
       "  0.04531292404447283,\n",
       "  1.3887967552457536)]"
      ]
     },
     "execution_count": 7,
     "metadata": {},
     "output_type": "execute_result"
    }
   ],
   "source": [
    "# CBS vs ECBS 1.1 random-32x32x10\n",
    "rand_3 = gen_cmp_list('random-32-32-10.map', 'random-32-32-10-even-1.scen', rand_actors, w=1.1)\n",
    "rand_3"
   ]
  }
 ],
 "metadata": {
  "kernelspec": {
   "display_name": "Python 3",
   "language": "python",
   "name": "python3"
  },
  "language_info": {
   "codemirror_mode": {
    "name": "ipython",
    "version": 3
   },
   "file_extension": ".py",
   "mimetype": "text/x-python",
   "name": "python",
   "nbconvert_exporter": "python",
   "pygments_lexer": "ipython3",
   "version": "3.8.8"
  }
 },
 "nbformat": 4,
 "nbformat_minor": 5
}
